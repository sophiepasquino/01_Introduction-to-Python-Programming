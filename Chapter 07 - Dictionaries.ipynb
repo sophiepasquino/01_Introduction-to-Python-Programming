{
 "cells": [
  {
   "cell_type": "markdown",
   "id": "1b87b34e",
   "metadata": {},
   "source": [
    "\n",
    "   \n",
    "## Dictionaries - Part 1"
   ]
  },
  {
   "cell_type": "code",
   "execution_count": 1,
   "id": "a6ebc364",
   "metadata": {},
   "outputs": [
    {
     "name": "stdout",
     "output_type": "stream",
     "text": [
      "{'summer': 12, 'fall': 3, 'spring': 75}\n",
      "3\n",
      "{'summer': 12, 'fall': 5, 'spring': 75}\n",
      "False\n",
      "0\n",
      "{'csev': 2, 'cwen': 2, 'zqian': 1}\n",
      "{'name': 'Sophie', 'age': 25, 'city': 'Copenhagen'}\n",
      "name Sophie\n",
      "age 25\n",
      "city Copenhagen\n"
     ]
    }
   ],
   "source": [
    "# START YOUR CODE HERE.\n",
    "# Creating and using dictionaries\n",
    "cabinet = dict()\n",
    "cabinet['summer'] = 12\n",
    "cabinet['fall'] = 3\n",
    "cabinet['spring'] = 75\n",
    "print(cabinet)  # Output: {'summer': 12, 'fall': 3, 'spring': 75}\n",
    "\n",
    "# Accessing values by key\n",
    "print(cabinet['fall'])  # Output: 3\n",
    "\n",
    "# Updating a value\n",
    "cabinet['fall'] = cabinet['fall'] + 2\n",
    "print(cabinet)  # Output: {'summer': 12, 'fall': 5, 'spring': 75}\n",
    "\n",
    "# Checking if a key exists\n",
    "print('winter' in cabinet)  # Output: False\n",
    "\n",
    "# Using get() method for safer key lookup\n",
    "print(cabinet.get('winter', 0))  # Output: 0\n",
    "\n",
    "# Counting occurrences using a dictionary\n",
    "counts = dict()\n",
    "names = ['csev', 'cwen', 'csev', 'zqian', 'cwen']\n",
    "for name in names:\n",
    "    counts[name] = counts.get(name, 0) + 1\n",
    "print(counts)  # Output: {'csev': 2, 'cwen': 2, 'zqian': 1}\n",
    "\n",
    "# Dictionary literals\n",
    "person = {'name': 'Sophie', 'age': 25, 'city': 'Copenhagen'}\n",
    "print(person)  # Output: {'name': 'Sophie', 'age': 25, 'city': 'Copenhagen'}\n",
    "\n",
    "# Iterating through a dictionary\n",
    "for key in person:\n",
    "    print(key, person[key])"
   ]
  },
  {
   "cell_type": "markdown",
   "id": "caf3dc55",
   "metadata": {},
   "source": [
    "<hr style=\"border:2px solid gray\"> </hr>   \n",
    "   \n",
    "## Dictionaries - Part 2"
   ]
  },
  {
   "cell_type": "code",
   "execution_count": 2,
   "id": "b47889df",
   "metadata": {},
   "outputs": [
    {
     "name": "stdout",
     "output_type": "stream",
     "text": [
      "Word Counts: {}\n",
      "Most common word: None None\n",
      "File not found!\n",
      "[]\n",
      "[]\n",
      "[]\n",
      "chuck 1\n",
      "fred 42\n",
      "jan 100\n"
     ]
    }
   ],
   "source": [
    "# START YOUR CODE HERE.\n",
    "# Counting word frequency from user input\n",
    "counts = dict()\n",
    "line = input('Enter a line of text: ')\n",
    "words = line.split()\n",
    "\n",
    "for word in words:\n",
    "    counts[word] = counts.get(word, 0) + 1\n",
    "\n",
    "print('Word Counts:', counts)\n",
    "\n",
    "# Finding the most common word\n",
    "bigcount = None\n",
    "bigword = None\n",
    "for word, count in counts.items():\n",
    "    if bigcount is None or count > bigcount:\n",
    "        bigword = word\n",
    "        bigcount = count\n",
    "\n",
    "print('Most common word:', bigword, bigcount)\n",
    "\n",
    "# Parsing file to count words\n",
    "filename = input(\"Enter file name: \")\n",
    "try:\n",
    "    handle = open(filename)\n",
    "    word_counts = dict()\n",
    "    for line in handle:\n",
    "        words = line.split()\n",
    "        for word in words:\n",
    "            word_counts[word] = word_counts.get(word, 0) + 1\n",
    "    print('File Word Counts:', word_counts)\n",
    "except FileNotFoundError:\n",
    "    print(\"File not found!\")\n",
    "\n",
    "# Retrieving keys and values from a dictionary\n",
    "print(list(counts.keys()))   # List of keys\n",
    "print(list(counts.values())) # List of values\n",
    "print(list(counts.items()))  # List of key-value pairs\n",
    "\n",
    "# Looping through both keys and values\n",
    "for key, value in counts.items():\n",
    "    print(f'Key: {key}, Value: {value}')\n",
    "\n",
    "# Using two iteration variables in a dictionary\n",
    "jjj = {'chuck': 1, 'fred': 42, 'jan': 100}\n",
    "for aaa, bbb in jjj.items():\n",
    "    print(aaa, bbb)"
   ]
  },
  {
   "cell_type": "markdown",
   "id": "d9a173a0",
   "metadata": {},
   "source": [
    "<hr style=\"border:2px solid gray\"> </hr>   \n",
    "   \n",
    "## Dictionaries - Part 3"
   ]
  },
  {
   "cell_type": "code",
   "execution_count": null,
   "id": "336c58b5",
   "metadata": {},
   "outputs": [],
   "source": [
    "# START YOUR CODE HERE.\n",
    "# Counting occurrences using dictionaries with user input\n",
    "counts = dict()\n",
    "print(\"Enter a line of text:\")\n",
    "line = input('')\n",
    "words = line.split()\n",
    "\n",
    "print(\"Words:\", words)\n",
    "print(\"Counting...\")\n",
    "\n",
    "for word in words:\n",
    "    counts[word] = counts.get(word, 0) + 1\n",
    "\n",
    "print(\"Word Counts:\", counts)"
   ]
  },
  {
   "cell_type": "markdown",
   "id": "55f785a3",
   "metadata": {},
   "source": [
    "<hr style=\"border:2px solid gray\"> </hr>  \n",
    "\n",
    "## Practice Task   \n",
    "#### 1. Write a program to read through the data/mbox-short.txt and figure out who has sent the greatest number of mail messages. The program looks for 'From ' lines and takes the second word of those lines as the person who sent the mail. The program creates a Python dictionary that maps the sender's mail address to a count of the number of times they appear in the file. After the dictionary is produced, the program reads through the dictionary using a maximum loop to find the most prolific committer.\n",
    "<br /> \n",
    "<details>    \n",
    "<summary>\n",
    "    <font size=\"3\" color=\"red\"><b>Hints (click to expand)</b></font>\n",
    "</summary>\n",
    "<p>\n",
    "    <ul>\n",
    "        <li>Can you reuse code you have already written?</li>\n",
    "        <li>Remind yourself of the get-method to access values in dictionaries.</li>\n",
    "        <li>What does the items-method return if it is called on a dictionary?</li>\n",
    "    </ul>\n",
    "</p>\n",
    "</details>"
   ]
  },
  {
   "cell_type": "code",
   "execution_count": 3,
   "id": "71212838",
   "metadata": {},
   "outputs": [
    {
     "ename": "SyntaxError",
     "evalue": "closing parenthesis ')' does not match opening parenthesis '[' (1718863107.py, line 18)",
     "output_type": "error",
     "traceback": [
      "  \u001b[36mCell\u001b[39m\u001b[36m \u001b[39m\u001b[32mIn[3]\u001b[39m\u001b[32m, line 18\u001b[39m\n\u001b[31m    \u001b[39m\u001b[31mbiggest_key, biggest_value = sorted (email_counts. items (), key = lambda x: -x [11) [0]\u001b[39m\n                                                                                       ^\n\u001b[31mSyntaxError\u001b[39m\u001b[31m:\u001b[39m closing parenthesis ')' does not match opening parenthesis '['\n"
     ]
    }
   ],
   "source": [
    "# START YOUR CODE HERE.\n",
    "email counts = {}\n",
    "with open (\"data/mbox-short.txt\", \"r\") as file:\n",
    "file = file. readlines ()\n",
    "for line in file:\n",
    "if not line.startswith(\"From \"):\n",
    "continue\n",
    "adress = line.split () [1]\n",
    "email_counts [adress] = email_counts. get (adress, 0) + 1\n",
    "biggest_key = None\n",
    "biggest_value = None\n",
    "for key, value in email_counts. items () :\n",
    "if biggest_value is None or value > biggest_value:\n",
    "biggest_key = key\n",
    "biggest_value = value\n",
    "print (biggest_key, biggest_value)\n",
    "# SHORT FORM TO FILTER OUT THE MAXIMUM:\n",
    "biggest_key, biggest_value = sorted (email_counts. items (), key = lambda x: -x [11) [0]\n",
    "print (biggest_key, biggest_value)"
   ]
  }
 ],
 "metadata": {
  "kernelspec": {
   "display_name": "Python 3",
   "language": "python",
   "name": "python3"
  },
  "language_info": {
   "codemirror_mode": {
    "name": "ipython",
    "version": 3
   },
   "file_extension": ".py",
   "mimetype": "text/x-python",
   "name": "python",
   "nbconvert_exporter": "python",
   "pygments_lexer": "ipython3",
   "version": "3.13.2"
  }
 },
 "nbformat": 4,
 "nbformat_minor": 5
}
