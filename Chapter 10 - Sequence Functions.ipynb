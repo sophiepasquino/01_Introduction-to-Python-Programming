{
 "cells": [
  {
   "cell_type": "markdown",
   "id": "4d893e0e",
   "metadata": {},
   "source": [
    "# Chapter 10 - Sequence Functions\n"
   ]
  },
  {
   "cell_type": "code",
   "execution_count": 1,
   "id": "1e27fdd8",
   "metadata": {},
   "outputs": [
    {
     "name": "stdout",
     "output_type": "stream",
     "text": [
      "Index: 0, Fruit: apple\n",
      "Index: 1, Fruit: banana\n",
      "Index: 2, Fruit: cherry\n",
      "Index: 3, Fruit: date\n",
      "Item 1: apple\n",
      "Item 2: banana\n",
      "Item 3: cherry\n",
      "Item 4: date\n",
      "Fruit tuples: [(0, 'apple'), (1, 'banana'), (2, 'cherry'), (3, 'date')]\n"
     ]
    }
   ],
   "source": [
    "# START YOUR CODE HERE.\n",
    "# Using the enumerate() function to loop with an index\n",
    "fruits = [\"apple\", \"banana\", \"cherry\", \"date\"]\n",
    "\n",
    "# Basic usage of enumerate\n",
    "for index, fruit in enumerate(fruits):\n",
    "    print(f\"Index: {index}, Fruit: {fruit}\")\n",
    "\n",
    "# Starting the index from 1 instead of 0\n",
    "for index, fruit in enumerate(fruits, start=1):\n",
    "    print(f\"Item {index}: {fruit}\")\n",
    "\n",
    "# Creating a list of tuples from enumerate\n",
    "fruit_tuples = list(enumerate(fruits))\n",
    "print(\"Fruit tuples:\", fruit_tuples)\n"
   ]
  },
  {
   "cell_type": "markdown",
   "id": "5a2740ba",
   "metadata": {},
   "source": [
    "<hr style=\"border:2px solid gray\"> </hr>   \n",
    "   \n",
    "## Sorting in Python || Learn Python Programming (Computer Science)"
   ]
  },
  {
   "cell_type": "code",
   "execution_count": 2,
   "id": "38b3a6bf",
   "metadata": {},
   "outputs": [
    {
     "name": "stdout",
     "output_type": "stream",
     "text": [
      "Sorted numbers: [1, 3, 5, 7, 9]\n",
      "Sorted in descending order: [9, 7, 5, 3, 1]\n",
      "Sorted by second element: [(5, 'five'), (1, 'one'), (3, 'three'), (2, 'two')]\n",
      "Sorted dictionary by values: {'banana': 1, 'cherry': 2, 'apple': 3}\n",
      "In-place sorted names: ['Alice', 'Bob', 'Charlie', 'David']\n",
      "Sorted by length: ['Bob', 'Alice', 'David', 'Charlie']\n"
     ]
    }
   ],
   "source": [
    "# START YOUR CODE HERE.\n",
    "# Sorting a list of integers\n",
    "numbers = [5, 1, 9, 3, 7]\n",
    "sorted_numbers = sorted(numbers)\n",
    "print(\"Sorted numbers:\", sorted_numbers)\n",
    "\n",
    "# Sorting in reverse\n",
    "sorted_numbers_desc = sorted(numbers, reverse=True)\n",
    "print(\"Sorted in descending order:\", sorted_numbers_desc)\n",
    "\n",
    "# Sorting a list of tuples based on the second element\n",
    "pairs = [(1, 'one'), (3, 'three'), (2, 'two'), (5, 'five')]\n",
    "sorted_pairs = sorted(pairs, key=lambda x: x[1])\n",
    "print(\"Sorted by second element:\", sorted_pairs)\n",
    "\n",
    "# Sorting a dictionary by values\n",
    "my_dict = {'apple': 3, 'banana': 1, 'cherry': 2}\n",
    "sorted_dict = dict(sorted(my_dict.items(), key=lambda item: item[1]))\n",
    "print(\"Sorted dictionary by values:\", sorted_dict)\n",
    "\n",
    "# Using sort() method (in-place sorting)\n",
    "names = [\"Alice\", \"Bob\", \"Charlie\", \"David\"]\n",
    "names.sort()\n",
    "print(\"In-place sorted names:\", names)\n",
    "\n",
    "# Sorting with custom criteria (by length)\n",
    "names.sort(key=len)\n",
    "print(\"Sorted by length:\", names)\n"
   ]
  },
  {
   "cell_type": "markdown",
   "id": "12a172c7",
   "metadata": {},
   "source": [
    "<hr style=\"border:2px solid gray\"> </hr>   \n",
    "   \n",
    "## Zip Function - Python Quick Tips"
   ]
  },
  {
   "cell_type": "code",
   "execution_count": 3,
   "id": "837b454f",
   "metadata": {},
   "outputs": [
    {
     "name": "stdout",
     "output_type": "stream",
     "text": [
      "Zipped list: [('Alice', 25), ('Bob', 30), ('Charlie', 22)]\n",
      "Dictionary from zipped lists: {'Alice': 25, 'Bob': 30, 'Charlie': 22}\n",
      "Names: ('Alice', 'Bob', 'Charlie')\n",
      "Ages: (25, 30, 22)\n",
      "Zipped with unequal lengths: [(1, 'a'), (2, 'b')]\n",
      "Person 1: Alice, Age: 25\n",
      "Person 2: Bob, Age: 30\n",
      "Person 3: Charlie, Age: 22\n",
      "Combined list using zip and list comprehension: ['Alice is 25 years old', 'Bob is 30 years old', 'Charlie is 22 years old']\n"
     ]
    }
   ],
   "source": [
    "# START YOUR CODE HERE.\n",
    "# Using zip() to combine two lists\n",
    "names = [\"Alice\", \"Bob\", \"Charlie\"]\n",
    "ages = [25, 30, 22]\n",
    "combined = zip(names, ages)\n",
    "print(\"Zipped list:\", list(combined))\n",
    "\n",
    "# Creating a dictionary from zipped lists\n",
    "combined_dict = dict(zip(names, ages))\n",
    "print(\"Dictionary from zipped lists:\", combined_dict)\n",
    "\n",
    "# Unzipping a list of tuples\n",
    "zipped = [('Alice', 25), ('Bob', 30), ('Charlie', 22)]\n",
    "names, ages = zip(*zipped)\n",
    "print(\"Names:\", names)\n",
    "print(\"Ages:\", ages)\n",
    "\n",
    "# Zipping multiple sequences of unequal length\n",
    "list1 = [1, 2, 3]\n",
    "list2 = ['a', 'b']\n",
    "zipped = zip(list1, list2)\n",
    "print(\"Zipped with unequal lengths:\", list(zipped))\n",
    "\n",
    "# Using zip() with enumerate\n",
    "for index, (name, age) in enumerate(zip(names, ages), start=1):\n",
    "    print(f\"Person {index}: {name}, Age: {age}\")\n",
    "\n",
    "# Zipping with list comprehension\n",
    "combined_list = [f\"{name} is {age} years old\" for name, age in zip(names, ages)]\n",
    "print(\"Combined list using zip and list comprehension:\", combined_list)\n"
   ]
  },
  {
   "cell_type": "markdown",
   "id": "02d64301",
   "metadata": {},
   "source": [
    "<hr style=\"border:2px solid gray\"> </hr>   \n",
    "\n",
    "## Practice Task   \n",
    "#### 1. Write a program to read through the data/mbox-short.txt and figure out the line indexes (starting at zero) that contain emails. Every line that contains an email starts with \"From \". Store the indexes in a list called *indexes*.\n",
    "<br /> \n",
    "<details>    \n",
    "<summary>\n",
    "    <font size=\"3\" color=\"red\"><b>Hints (click to expand)</b></font>\n",
    "</summary>\n",
    "<p>\n",
    "    <ul>\n",
    "        <li>Which of the discussed methods can you use?</li>\n",
    "        <li>Instead of storing the emails, store their line indexes.</li>\n",
    "    </ul>\n",
    "</p>\n",
    "</details>"
   ]
  },
  {
   "cell_type": "code",
   "execution_count": 4,
   "id": "efea8c7c",
   "metadata": {},
   "outputs": [
    {
     "ename": "IndentationError",
     "evalue": "expected an indented block after 'with' statement on line 4 (2029418362.py, line 5)",
     "output_type": "error",
     "traceback": [
      "  \u001b[36mCell\u001b[39m\u001b[36m \u001b[39m\u001b[32mIn[5]\u001b[39m\u001b[32m, line 5\u001b[39m\n\u001b[31m    \u001b[39m\u001b[31mfile = file. readlines\u001b[39m\n    ^\n\u001b[31mIndentationError\u001b[39m\u001b[31m:\u001b[39m expected an indented block after 'with' statement on line 4\n"
     ]
    }
   ],
   "source": [
    "indexes = []\n",
    "# START YOUR CODE HERE.\n",
    "indexes = []\n",
    "with open (\"data/mbox-short.txt\", \"r\") as file:\n",
    "file = file. readlines\n",
    "for index, line in enumerate(file):\n",
    "if not line.startswith(\"From \"):\n",
    "continue\n",
    "indexes. append (index)"
   ]
  },
  {
   "cell_type": "code",
   "execution_count": null,
   "id": "e3deb3e4",
   "metadata": {},
   "outputs": [],
   "source": [
    "# THIS CELL TESTS YOUR RESULTS.\n",
    "assert len(indexes) == 27, \"It seems as you did filter out not every line index!\"\n",
    "assert indexes[2] == 130, \"You filtered out a wrong line!\"\n",
    "assert indexes[-1] == 1837, \"Your filtered out a wrong line!\""
   ]
  },
  {
   "cell_type": "markdown",
   "id": "7dd16e4e",
   "metadata": {},
   "source": [
    "<details>\n",
    "<summary>\n",
    "    <font size=\"3\" color=\"darkgreen\"><b>Solution (click to expand)</b></font>\n",
    "</summary>\n",
    "<p>\n",
    "    <code>indexes = []</code><br />\n",
    "    <code>with open(\"data/mbox-short.txt\", \"r\") as file:</code><br />\n",
    "    <code>&nbsp;&nbsp;&nbsp;&nbsp;file = file.readlines()</code><br />\n",
    "    <code>for index, line in enumerate(file):</code><br />\n",
    "    <code>&nbsp;&nbsp;&nbsp;&nbsp;if not line.startswith(\"From \"):</code><br />\n",
    "    <code>&nbsp;&nbsp;&nbsp;&nbsp;&nbsp;&nbsp;&nbsp;&nbsp;continue</code><br />\n",
    "    <code>&nbsp;&nbsp;&nbsp;&nbsp;indexes.append(index)</code>\n",
    "</p>\n",
    "</details>   \n",
    "   \n",
    "#### 2. Write a program to read through the data/mbox-short.txt and figure out emails as well as their line indexes. Lines that contain emails start with \"From \". Store the pairs in a list of tuples named *pairs* that have the format (index, email). Sort this list with regard to the emails in alphabetical order.\n",
    "<br /> \n",
    "<details>\n",
    "<summary>\n",
    "    <font size=\"3\" color=\"red\"><b>Hints (click to expand)</b></font>\n",
    "</summary>\n",
    "<p>\n",
    "    <ul>\n",
    "        <li>First, store each email with their regarding index in a list as a tuple.</li>\n",
    "        <li>Second, sort this list with regard to the emails in alphabetical order.</li>\n",
    "    </ul>\n",
    "</p>\n",
    "</details>"
   ]
  },
  {
   "cell_type": "code",
   "execution_count": null,
   "id": "38da263a",
   "metadata": {},
   "outputs": [],
   "source": [
    "pairs = []\n",
    "# START YOUR CODE HERE.\n"
   ]
  },
  {
   "cell_type": "code",
   "execution_count": null,
   "id": "c4e8fca8",
   "metadata": {},
   "outputs": [],
   "source": [
    "# THIS CELL TESTS YOUR RESULTS.\n",
    "assert len(pairs) == 27, \"It seems as you did not filter out every pair!\"\n",
    "assert pairs[2][0] == 493, \"You filtered out a wrong pair!\"\n",
    "assert pairs[-1][0] == 904, \"Your filtered out a wrong pair!\""
   ]
  },
  {
   "cell_type": "markdown",
   "id": "531b8a11",
   "metadata": {},
   "source": [
    "<details>    \n",
    "<summary>\n",
    "    <font size=\"3\" color=\"darkgreen\"><b>Solution (click to expand)</b></font>\n",
    "</summary>\n",
    "<p>\n",
    "    <code>pairs = []</code><br />\n",
    "    <code>with open(\"data/mbox-short.txt\", \"r\") as file:</code><br />\n",
    "    <code>&nbsp;&nbsp;&nbsp;&nbsp;file = file.readlines()</code><br />\n",
    "    <code>for index, line in enumerate(file):</code><br />\n",
    "    <code>&nbsp;&nbsp;&nbsp;&nbsp;if not line.startswith(\"From \"):</code><br />\n",
    "    <code>&nbsp;&nbsp;&nbsp;&nbsp;&nbsp;&nbsp;&nbsp;&nbsp;continue</code><br />\n",
    "    <code>&nbsp;&nbsp;&nbsp;&nbsp;pairs.append((index, line.split()[1]))</code><br />\n",
    "    <code>pairs = sorted(pairs, key = lambda x: x[1])</code><br />\n",
    "</p>\n",
    "</details>   "
   ]
  }
 ],
 "metadata": {
  "kernelspec": {
   "display_name": "Python 3",
   "language": "python",
   "name": "python3"
  },
  "language_info": {
   "codemirror_mode": {
    "name": "ipython",
    "version": 3
   },
   "file_extension": ".py",
   "mimetype": "text/x-python",
   "name": "python",
   "nbconvert_exporter": "python",
   "pygments_lexer": "ipython3",
   "version": "3.13.2"
  }
 },
 "nbformat": 4,
 "nbformat_minor": 5
}
