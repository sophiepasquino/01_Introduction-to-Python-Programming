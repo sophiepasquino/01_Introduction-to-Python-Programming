{
 "cells": [
  {
   "cell_type": "code",
   "execution_count": 1,
   "id": "a6ebc364",
   "metadata": {},
   "outputs": [
    {
     "ename": "ValueError",
     "evalue": "could not convert string to float: ''",
     "output_type": "error",
     "traceback": [
      "\u001b[31m---------------------------------------------------------------------------\u001b[39m",
      "\u001b[31mValueError\u001b[39m                                Traceback (most recent call last)",
      "\u001b[36mCell\u001b[39m\u001b[36m \u001b[39m\u001b[32mIn[1]\u001b[39m\u001b[32m, line 11\u001b[39m\n\u001b[32m      8\u001b[39m     \u001b[38;5;28;01mreturn\u001b[39;00m pay\n\u001b[32m     10\u001b[39m \u001b[38;5;66;03m# Use the function\u001b[39;00m\n\u001b[32m---> \u001b[39m\u001b[32m11\u001b[39m hrs = \u001b[38;5;28;43mfloat\u001b[39;49m\u001b[43m(\u001b[49m\u001b[38;5;28;43minput\u001b[39;49m\u001b[43m(\u001b[49m\u001b[33;43m\"\u001b[39;49m\u001b[33;43mEnter Hours: \u001b[39;49m\u001b[33;43m\"\u001b[39;49m\u001b[43m)\u001b[49m\u001b[43m)\u001b[49m\n\u001b[32m     12\u001b[39m rate = \u001b[38;5;28mfloat\u001b[39m(\u001b[38;5;28minput\u001b[39m(\u001b[33m\"\u001b[39m\u001b[33mEnter Rate: \u001b[39m\u001b[33m\"\u001b[39m))\n\u001b[32m     13\u001b[39m \u001b[38;5;28mprint\u001b[39m(\u001b[33m\"\u001b[39m\u001b[33mPay:\u001b[39m\u001b[33m\"\u001b[39m, compute_pay(hrs, rate))\n",
      "\u001b[31mValueError\u001b[39m: could not convert string to float: ''"
     ]
    }
   ],
   "source": [
    "# START YOUR CODE HERE.\n",
    "# Define the function\n",
    "def compute_pay(hours, rate):\n",
    "    if hours <= 40:\n",
    "        pay = hours * rate\n",
    "    else:\n",
    "        pay = 40 * rate + (hours - 40) * rate * 1.5\n",
    "    return pay\n",
    "\n",
    "# Use the function\n",
    "hrs = float(input(\"Enter Hours: \"))\n",
    "rate = float(input(\"Enter Rate: \"))\n",
    "print(\"Pay:\", compute_pay(hrs, rate))\n"
   ]
  },
  {
   "cell_type": "markdown",
   "id": "caf3dc55",
   "metadata": {},
   "source": [
    "<hr style=\"border:2px solid gray\"> </hr>   \n",
    "   \n",
    "## Functions - Part 2"
   ]
  },
  {
   "cell_type": "code",
   "execution_count": null,
   "id": "b47889df",
   "metadata": {},
   "outputs": [],
   "source": [
    "# START YOUR CODE HERE.\n",
    "def compute_pay(hours, rate):\n",
    "    if hours <= 40:\n",
    "        return hours * rate\n",
    "    else:\n",
    "        return 40 * rate + (hours - 40) * rate * 1.5\n",
    "\n",
    "def get_valid_float(prompt):\n",
    "    while True:\n",
    "        value = input(prompt)\n",
    "        if value.lower() == 'q':\n",
    "            return None\n",
    "        try:\n",
    "            return float(value)\n",
    "        except ValueError:\n",
    "            print(\"Invalid input. Please enter a number or 'q' to quit.\")\n",
    "\n",
    "# Main loop\n",
    "while True:\n",
    "    print(\"\\n--- Pay Calculator ---\")\n",
    "    hrs = get_valid_float(\"Enter hours worked (or 'q' to quit): \")\n",
    "    if hrs is None:\n",
    "        break\n",
    "\n",
    "    rate = get_valid_float(\"Enter hourly rate (or 'q' to quit): \")\n",
    "    if rate is None:\n",
    "        break\n",
    "\n",
    "    pay = compute_pay(hrs, rate)\n",
    "    print(\"Your pay is:\", pay)"
   ]
  },
  {
   "cell_type": "markdown",
   "id": "439589d1",
   "metadata": {},
   "source": [
    "<hr style=\"border:2px solid gray\"> </hr>   \n",
    "   \n",
    "## Python lambda (anonymous) Functions | Python Best Practices"
   ]
  },
  {
   "cell_type": "code",
   "execution_count": null,
   "id": "9224ad62",
   "metadata": {},
   "outputs": [],
   "source": [
    "# START YOUR CODE HERE.\n",
    "add = lambda x, y: x + y\n",
    "print(add(3, 5)) \n",
    "square = lambda x: x**2\n",
    "print(square(4)) \n",
    "pairs = [(1, 3), (2, 1), (5, 0)]\n",
    "sorted_pairs = sorted(pairs, key=lambda x: x[1])\n",
    "print(sorted_pairs)  # Output: [(5, 0), (2, 1), (1, 3)]\n"
   ]
  },
  {
   "cell_type": "code",
   "execution_count": null,
   "id": "71212838",
   "metadata": {},
   "outputs": [],
   "source": [
    "# START YOUR CODE HERE.\n",
    "def computepay(h, r):\n",
    "    if h <= 40:\n",
    "        return h * r\n",
    "    else:\n",
    "        return (40 * r) + (h - 40) * r * 1.5\n",
    "\n",
    "# Prompt the user\n",
    "hrs = input(\"Enter hours: \")\n",
    "hrs = float(hrs)\n",
    "\n",
    "rate = input(\"Enter rate: \")\n",
    "rate = float(rate)\n",
    "\n",
    "# Call the function and print the result\n",
    "print(\"Pay:\", computepay(hrs, rate))"
   ]
  },
  {
   "cell_type": "markdown",
   "id": "fa62b820",
   "metadata": {},
   "source": [
    "<details>    \n",
    "<summary>\n",
    "    <font size=\"3\" color=\"darkgreen\"><b>Solution (click to expand)</b></font>\n",
    "</summary>\n",
    "<p>\n",
    "    <code>def computepay(h, r):</code><br />\n",
    "    <code>&nbsp;&nbsp;&nbsp;&nbsp;if h <= 40:</code><br />\n",
    "    <code>&nbsp;&nbsp;&nbsp;&nbsp;&nbsp;&nbsp;&nbsp;&nbsp;return (h*r)</code><br />\n",
    "    <code>&nbsp;&nbsp;&nbsp;&nbsp;else:</code><br />\n",
    "    <code>&nbsp;&nbsp;&nbsp;&nbsp;&nbsp;&nbsp;&nbsp;&nbsp;return (40*r+(h-40)*r*1.5)</code><br />\n",
    "    <code>hrs = input(\"Enter hours: \")</code><br />\n",
    "    <code>hrs = float(hrs)</code><br />\n",
    "    <code>rate = input(\"Enter rate: \")</code><br />\n",
    "    <code>rate = float(rate)</code><br />\n",
    "    <code>print(\"Pay: \", computepay(hrs, rate))</code><br />\n",
    "</p>\n",
    "</details> "
   ]
  }
 ],
 "metadata": {
  "kernelspec": {
   "display_name": "Python 3",
   "language": "python",
   "name": "python3"
  },
  "language_info": {
   "codemirror_mode": {
    "name": "ipython",
    "version": 3
   },
   "file_extension": ".py",
   "mimetype": "text/x-python",
   "name": "python",
   "nbconvert_exporter": "python",
   "pygments_lexer": "ipython3",
   "version": "3.13.2"
  }
 },
 "nbformat": 4,
 "nbformat_minor": 5
}
