{
 "cells": [
  {
   "cell_type": "markdown",
   "id": "addc3c09",
   "metadata": {},
   "source": [
    "<hr style=\"border:2px solid gray\"> </hr>   \n",
    "   \n",
    "## Functions - Part 1"
   ]
  },
  {
   "cell_type": "code",
   "execution_count": null,
   "id": "a6ebc364",
   "metadata": {},
   "outputs": [
    {
     "name": "stdout",
     "output_type": "stream",
     "text": [
      "Error: Please enter a valid number.\n",
      "Error: Please enter a valid number.\n",
      "Error: Please enter a valid number.\n",
      "Error: Please enter a valid number.\n",
      "Error: Please enter a valid number.\n",
      "Error: Please enter a valid number.\n",
      "Error: Please enter a valid number.\n",
      "Error: Please enter a valid number.\n",
      "Error: Please enter a valid number.\n",
      "Error: Please enter a valid number.\n",
      "Error: Please enter a valid number.\n",
      "Error: Please enter a valid number.\n",
      "Error: Please enter a valid number.\n",
      "Error: Please enter a valid number.\n",
      "Error: Please enter a valid number.\n",
      "Error: Please enter a valid number.\n",
      "Error: Please enter a valid number.\n",
      "Error: Please enter a valid number.\n",
      "Error: Please enter a valid number.\n",
      "Error: Please enter a valid number.\n",
      "Error: Please enter a valid number.\n",
      "Error: Please enter a valid number.\n",
      "Error: Please enter a valid number.\n",
      "Error: Please enter a valid number.\n",
      "Error: Please enter a valid number.\n",
      "Error: Please enter a valid number.\n"
     ]
    }
   ],
   "source": [
    "# START YOUR CODE HERE.\n",
    "# Define the function to compute pay\n",
    "def compute_pay(hours, rate):\n",
    "    if hours <= 40:\n",
    "        pay = hours * rate\n",
    "    else:\n",
    "        pay = 40 * rate + (hours - 40) * rate * 1.5\n",
    "    return pay\n",
    "\n",
    "# Get input with error handling\n",
    "def get_valid_float(prompt):\n",
    "    while True:\n",
    "        try:\n",
    "            value = float(input(prompt))\n",
    "            return value\n",
    "        except ValueError:\n",
    "            print(\"Error: Please enter a valid number.\")\n",
    "\n",
    "# Use the function with improved input handling\n",
    "hrs = get_valid_float(\"Enter Hours: 40\")\n",
    "rate = get_valid_float(\"Enter Rate: 15\")\n",
    "print(\"Pay:\", compute_pay(hrs, rate))"
   ]
  },
  {
   "cell_type": "markdown",
   "id": "caf3dc55",
   "metadata": {},
   "source": [
    "<hr style=\"border:2px solid gray\"> </hr>   \n",
    "   \n",
    "## Functions - Part 2"
   ]
  },
  {
   "cell_type": "code",
   "execution_count": null,
   "id": "b47889df",
   "metadata": {},
   "outputs": [],
   "source": [
    "# START YOUR CODE HERE.\n",
    "def compute_pay(hours, rate):\n",
    "    if hours <= 40:\n",
    "        return hours * rate\n",
    "    else:\n",
    "        return 40 * rate + (hours - 40) * rate * 1.5\n",
    "\n",
    "def get_valid_float(prompt):\n",
    "    while True:\n",
    "        value = input(prompt)\n",
    "        if value.lower() == 'q':\n",
    "            return None\n",
    "        try:\n",
    "            return float(value)\n",
    "        except ValueError:\n",
    "            print(\"Invalid input. Please enter a number or 'q' to quit.\")\n",
    "\n",
    "# Main loop\n",
    "while True:\n",
    "    print(\"\\n--- Pay Calculator ---\")\n",
    "    hrs = get_valid_float(\"Enter hours worked (or 'q' to quit): \")\n",
    "    if hrs is None:\n",
    "        break\n",
    "\n",
    "    rate = get_valid_float(\"Enter hourly rate (or 'q' to quit): \")\n",
    "    if rate is None:\n",
    "        break\n",
    "\n",
    "    pay = compute_pay(hrs, rate)\n",
    "    print(\"Your pay is:\", pay)"
   ]
  },
  {
   "cell_type": "markdown",
   "id": "439589d1",
   "metadata": {},
   "source": [
    "<hr style=\"border:2px solid gray\"> </hr>   \n",
    "   \n",
    "## Python lambda (anonymous) Functions | Python Best Practices"
   ]
  },
  {
   "cell_type": "code",
   "execution_count": null,
   "id": "9224ad62",
   "metadata": {},
   "outputs": [],
   "source": [
    "# START YOUR CODE HERE.\n",
    "add = lambda x, y: x + y\n",
    "print(add(3, 5)) \n",
    "square = lambda x: x**2\n",
    "print(square(4)) \n",
    "pairs = [(1, 3), (2, 1), (5, 0)]\n",
    "sorted_pairs = sorted(pairs, key=lambda x: x[1])\n",
    "print(sorted_pairs)  # Output: [(5, 0), (2, 1), (1, 3)]\n"
   ]
  },
  {
   "cell_type": "code",
   "execution_count": null,
   "id": "71212838",
   "metadata": {},
   "outputs": [],
   "source": [
    "# START YOUR CODE HERE.\n",
    "def computepay(h, r):\n",
    "    if h <= 40:\n",
    "        return h * r\n",
    "    else:\n",
    "        return (40 * r) + (h - 40) * r * 1.5\n",
    "\n",
    "# Prompt the user\n",
    "hrs = input(\"Enter hours: \")\n",
    "hrs = float(hrs)\n",
    "\n",
    "rate = input(\"Enter rate: \")\n",
    "rate = float(rate)\n",
    "\n",
    "# Call the function and print the result\n",
    "print(\"Pay:\", computepay(hrs, rate))"
   ]
  }
 ],
 "metadata": {
  "kernelspec": {
   "display_name": "Python 3",
   "language": "python",
   "name": "python3"
  },
  "language_info": {
   "codemirror_mode": {
    "name": "ipython",
    "version": 3
   },
   "file_extension": ".py",
   "mimetype": "text/x-python",
   "name": "python",
   "nbconvert_exporter": "python",
   "pygments_lexer": "ipython3",
   "version": "3.13.2"
  }
 },
 "nbformat": 4,
 "nbformat_minor": 5
}
