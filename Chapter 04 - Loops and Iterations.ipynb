{
 "cells": [
  {
   "cell_type": "code",
   "execution_count": 1,
   "id": "a6ebc364",
   "metadata": {},
   "outputs": [
    {
     "name": "stdout",
     "output_type": "stream",
     "text": [
      "Count: 1\n",
      "Count: 2\n",
      "Count: 3\n",
      "Count: 4\n",
      "Count: 5\n",
      "Done!\n"
     ]
    }
   ],
   "source": [
    "# START YOUR CODE HERE.\n",
    "n = 1\n",
    "while n <= 5:\n",
    "    print(\"Count:\", n)\n",
    "    n = n + 1\n",
    "\n",
    "print(\"Done!\")"
   ]
  },
  {
   "cell_type": "markdown",
   "id": "caf3dc55",
   "metadata": {},
   "source": [
    "<hr style=\"border:2px solid gray\"> </hr>   \n",
    "   \n",
    "## Loops and Iterations - Part 2"
   ]
  },
  {
   "cell_type": "code",
   "execution_count": 2,
   "id": "b47889df",
   "metadata": {},
   "outputs": [
    {
     "name": "stdout",
     "output_type": "stream",
     "text": [
      "Hello Alice\n",
      "Hello Bob\n",
      "Hello Charlie\n",
      "All done!\n"
     ]
    }
   ],
   "source": [
    "# START YOUR CODE HERE.\n",
    "friends = ['Alice', 'Bob', 'Charlie']\n",
    "for friend in friends:\n",
    "    print(\"Hello\", friend)\n",
    "print(\"All done!\")\n"
   ]
  },
  {
   "cell_type": "markdown",
   "id": "b2a0701c",
   "metadata": {},
   "source": [
    "<hr style=\"border:2px solid gray\"> </hr>   \n",
    "   \n",
    "## Loops and Iterations - Part 3"
   ]
  },
  {
   "cell_type": "code",
   "execution_count": null,
   "id": "2017351e",
   "metadata": {},
   "outputs": [],
   "source": [
    "# START YOUR CODE HERE.\n",
    "# Find the largest number in a list\n",
    "numbers = [3, 41, 12, 9, 74, 15]\n",
    "largest = numbers[0]\n",
    "\n",
    "for number in numbers:\n",
    "    if number > largest:\n",
    "        largest = number\n",
    "\n",
    "print(\"The largest number is:\", largest)"
   ]
  },
  {
   "cell_type": "markdown",
   "id": "533b3ffd",
   "metadata": {},
   "source": [
    "<hr style=\"border:2px solid gray\"> </hr>   \n",
    "   \n",
    "## Loops and Iterations - Part 4"
   ]
  },
  {
   "cell_type": "code",
   "execution_count": null,
   "id": "2455dfa5",
   "metadata": {},
   "outputs": [],
   "source": [
    "# START YOUR CODE HERE.\n",
    "# Compute total and count of numbers in a list\n",
    "numbers = [3, 41, 12, 9, 74, 15]\n",
    "total = 0\n",
    "count = 0\n",
    "\n",
    "for number in numbers:\n",
    "    total = total + number\n",
    "    count = count + 1\n",
    "\n",
    "print(\"Total:\", total)\n",
    "print(\"Count:\", count)\n",
    "print(\"Average:\", total / count)"
   ]
  },
  {
   "cell_type": "markdown",
   "id": "55f785a3",
   "metadata": {},
   "source": [
    "<hr style=\"border:2px solid gray\"> </hr>  \n",
    "\n",
    "## Practice Task   \n",
    "#### 1. Write a program that repeatedly prompts a user for integer numbers until the user enters 'done'. Once 'done' is entered, print out the largest and smallest of the numbers. If the user enters anything other than a valid number catch it with a try/except and put out an appropriate message and ignore the number. Enter 7, 2, bob, 10, and 4 and match the output below.\n",
    "<br /> \n",
    "<details>    \n",
    "<summary>\n",
    "    <font size=\"3\" color=\"red\"><b>Hints (click to expand)</b></font>\n",
    "</summary>\n",
    "<p>\n",
    "    <ul>\n",
    "        <li>\"while True\" yields an infinite loop.</li>\n",
    "        <li>One can exit a loop by using the break operator.</li>\n",
    "        <li>A valid number can be converted to an int.</li>\n",
    "    </ul>\n",
    "</p>\n",
    "</details>"
   ]
  },
  {
   "cell_type": "code",
   "execution_count": 2,
   "id": "116f6e4d",
   "metadata": {},
   "outputs": [
    {
     "ename": "IndentationError",
     "evalue": "expected an indented block after 'try' statement on line 4 (2524776274.py, line 5)",
     "output_type": "error",
     "traceback": [
      "  \u001b[36mCell\u001b[39m\u001b[36m \u001b[39m\u001b[32mIn[2]\u001b[39m\u001b[32m, line 5\u001b[39m\n\u001b[31m    \u001b[39m\u001b[31mnum = input (\"Enter a number: 5\")\u001b[39m\n    ^\n\u001b[31mIndentationError\u001b[39m\u001b[31m:\u001b[39m expected an indented block after 'try' statement on line 4\n"
     ]
    }
   ],
   "source": [
    "# START YOUR CODE HERE.\n",
    "largest = None\n",
    "smallest = None\n",
    "try:\n",
    "num = input (\"Enter a number: 5\")\n",
    "num = int (num)\n",
    "except:\n",
    "if num == \"done\": break else:\n",
    "print (\"Invalid input, please enter a number.\") continue\n",
    "if largest is None or num > largest:\n",
    "largest = num\n",
    "if smallest is None or num < smallest:\n",
    "smallest = num\n",
    "print(\"Maximum is\", largest)\n",
    "print (\"Minimum is\" smallest)\n"
   ]
  }
 ],
 "metadata": {
  "kernelspec": {
   "display_name": "Python 3",
   "language": "python",
   "name": "python3"
  },
  "language_info": {
   "codemirror_mode": {
    "name": "ipython",
    "version": 3
   },
   "file_extension": ".py",
   "mimetype": "text/x-python",
   "name": "python",
   "nbconvert_exporter": "python",
   "pygments_lexer": "ipython3",
   "version": "3.13.2"
  }
 },
 "nbformat": 4,
 "nbformat_minor": 5
}
