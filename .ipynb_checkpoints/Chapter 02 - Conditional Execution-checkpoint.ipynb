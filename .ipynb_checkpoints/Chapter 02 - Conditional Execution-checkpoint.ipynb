{
 "cells": [
  {
   "cell_type": "code",
   "execution_count": null,
   "id": "af640739",
   "metadata": {},
   "outputs": [],
   "source": [
    "# RUN THIS COMMAND ONLY IF YOU USE GOOGLE COLAB.\n",
    "from google.colab import drive\n",
    "drive.mount('/content/drive')"
   ]
  },
  {
   "cell_type": "code",
   "execution_count": null,
   "id": "f568e9bd",
   "metadata": {},
   "outputs": [],
   "source": [
    "# RUN THIS COMMAND ONLY IF YOU USE GOOGLE COLAB.\n",
    "%cd drive/MyDrive/TechLabs/01_Introduction\\ to\\ Python\\ Programming"
   ]
  },
  {
   "cell_type": "markdown",
   "id": "5a8c4d82",
   "metadata": {},
   "source": [
    "# Chapter 2 - Conditional Execution\n",
    "### Hey Techie,   \n",
    "Welcome to the second notebook of this Python tutorial series. We encourage you to take this notebook as a template to code along the instruction videos, which you may find at: https://www.py4e.com/lessons/logic. Today's two videos deal with how Python executes some statements and skips others. There is no need to watch the worked exercises. In the end, please try to solve the presented tasks. If you want to double-check your results, you may also upload them to PY4E. For that, a Google Account is required. On the website, you find the auto-graded code tasks at the very end of each lesson.\n",
    "\n",
    "#### Have fun! :-)   \n",
    "*Video length in total*: 30 minutes   \n",
    "*Self-study time*: 30 minutes   \n",
    "*Total*: **60 minutes**   \n",
    "#### Credits\n",
    "Python for Everybody, Dr. Chuck Severance, https://www.py4e.com/, CC.\n",
    "<hr style=\"border:2px solid gray\"> </hr>   \n",
    "   \n",
    "## Conditional Execution - Part 1"
   ]
  },
  {
   "cell_type": "code",
   "execution_count": null,
   "id": "38a95db1",
   "metadata": {},
   "outputs": [],
   "source": [
    "# START YOUR CODE HERE.\n"
   ]
  },
  {
   "cell_type": "markdown",
   "id": "3bc6be1f",
   "metadata": {},
   "source": [
    "<hr style=\"border:2px solid gray\"> </hr>   \n",
    "   \n",
    "## Conditional Execution - Part 2"
   ]
  },
  {
   "cell_type": "code",
   "execution_count": null,
   "id": "1ed373a7",
   "metadata": {},
   "outputs": [],
   "source": [
    "# START YOUR CODE HERE.\n"
   ]
  },
  {
   "cell_type": "markdown",
   "id": "11e677ad",
   "metadata": {},
   "source": [
    "<hr style=\"border:2px solid gray\"> </hr>   \n",
    "   \n",
    "## Practice Tasks   \n",
    "#### 1. Write a program to prompt the user for hours and rate per hour using input to compute gross pay. Pay the hourly rate for the hours up to 40 and 1.5 times the hourly rate for all hours worked above 40 hours. Use 45 hours and a rate of 10.50 per hour to test the program (the pay should be 498.75). You should use input to read a string and float() to convert the string to a number. Do not worry about error checking the user input - assume the user types numbers properly. Print your computed pay.   \n",
    "<br /> \n",
    "<details>    \n",
    "<summary>\n",
    "    <font size=\"3\" color=\"red\"><b>Hints (click to expand)</b></font>\n",
    "</summary>\n",
    "<p>\n",
    "    <ul>\n",
    "        <li>Use the built-in input method to read hours and rate per hour separately.</li>\n",
    "        <li>Typecast both inputs to floats.</li>\n",
    "        <li>Use an if-condition to test whether the hours are below or equal to 40 hours.</li>\n",
    "        <li>Print the result by multiplying the hours with their rate per hour using the *-operator.</li>\n",
    "    </ul>\n",
    "</p>\n",
    "</details>"
   ]
  },
  {
   "cell_type": "code",
   "execution_count": null,
   "id": "1f5fb1ba",
   "metadata": {
    "scrolled": true
   },
   "outputs": [],
   "source": [
    "# START YOUR CODE HERE.\n"
   ]
  },
  {
   "cell_type": "markdown",
   "id": "0e137107",
   "metadata": {},
   "source": [
    "<details>    \n",
    "<summary>\n",
    "    <font size=\"3\" color=\"darkgreen\"><b>Solution (click to expand)</b></font>\n",
    "</summary>\n",
    "<p>\n",
    "    <code>hrs = input(\"Enter Hours: \")</code><br />\n",
    "    <code>hrs = float(hrs)</code><br />\n",
    "    <code>rate = input(\"Enter Rate: \")</code><br />\n",
    "    <code>rate = float(rate)</code><br />\n",
    "    <code>if hrs <= 40:</code><br />\n",
    "    <code>&nbsp;&nbsp;&nbsp;&nbsp;print(hrs*rate)</code><br />\n",
    "    <code>else:</code><br />\n",
    "    <code>&nbsp;&nbsp;&nbsp;&nbsp;print(rate*40+(hrs-40)*rate*1.5)</code>\n",
    "</p>\n",
    "</details>   \n",
    "  \n",
    "#### 2. Write a program to prompt for a score between 0.0 and 1.0. If the score is out of range, print an error. If the score is between 0.0 and 1.0, print a grade using the following scheme: >= 0.9 A; >= 0.8 B; >= 0.7 C; >= 0.6 D; < 0.6 F. For the test, enter a score of 0.85.   \n",
    "<br /> \n",
    "<details>    \n",
    "<summary>\n",
    "    <font size=\"3\" color=\"red\"><b>Hints (click to expand)</b></font>\n",
    "</summary>\n",
    "<p>\n",
    "    <ul>\n",
    "        <li>Check whether the input score is out of range first.</li>\n",
    "        <li>Check for the different grade levels in descending order.</li>\n",
    "        <li>Remind yourself of elif-conditions.</li>\n",
    "    </ul>\n",
    "</p>\n",
    "</details>"
   ]
  },
  {
   "cell_type": "code",
   "execution_count": null,
   "id": "99584dda",
   "metadata": {},
   "outputs": [],
   "source": [
    "# START YOUR CODE HERE.\n"
   ]
  },
  {
   "cell_type": "markdown",
   "id": "23b59568",
   "metadata": {},
   "source": [
    "<details>    \n",
    "<summary>\n",
    "    <font size=\"3\" color=\"darkgreen\"><b>Solution (click to expand)</b></font>\n",
    "</summary>\n",
    "<p>\n",
    "    <code>score = input(\"Enter Score: \")</code><br />\n",
    "    <code>score = float(score)</code><br />\n",
    "    <code>if score < 0 or score > 1:</code><br />\n",
    "    <code>&nbsp;&nbsp;&nbsp;&nbsp;print(\"The provided value does not refer to a grade; the program closes.\")</code><br />\n",
    "    <code>&nbsp;&nbsp;&nbsp;&nbsp;exit()</code><br />\n",
    "    <code>elif score >= 0.9:</code><br />\n",
    "    <code>&nbsp;&nbsp;&nbsp;&nbsp;print(\"A\")</code><br />\n",
    "    <code>elif score >= 0.8:</code><br />\n",
    "    <code>&nbsp;&nbsp;&nbsp;&nbsp;print(\"B\")</code><br />\n",
    "    <code>elif score >= 0.7:</code><br />\n",
    "    <code>&nbsp;&nbsp;&nbsp;&nbsp;print(\"C\")</code><br />\n",
    "    <code>elif score >= 0.6:</code><br />\n",
    "    <code>&nbsp;&nbsp;&nbsp;&nbsp;print(\"D\")</code><br />\n",
    "    <code>elif score < 0.6:</code><br />\n",
    "    <code>&nbsp;&nbsp;&nbsp;&nbsp;print(\"F\")</code>\n",
    "</p>\n",
    "</details>   "
   ]
  }
 ],
 "metadata": {
  "kernelspec": {
   "display_name": "Python 3 (ipykernel)",
   "language": "python",
   "name": "python3"
  },
  "language_info": {
   "codemirror_mode": {
    "name": "ipython",
    "version": 3
   },
   "file_extension": ".py",
   "mimetype": "text/x-python",
   "name": "python",
   "nbconvert_exporter": "python",
   "pygments_lexer": "ipython3",
   "version": "3.8.9"
  }
 },
 "nbformat": 4,
 "nbformat_minor": 5
}
