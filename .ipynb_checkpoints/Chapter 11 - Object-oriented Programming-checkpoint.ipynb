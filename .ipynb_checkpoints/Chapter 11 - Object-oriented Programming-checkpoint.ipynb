{
 "cells": [
  {
   "cell_type": "code",
   "execution_count": null,
   "id": "8e1367ab",
   "metadata": {},
   "outputs": [],
   "source": [
    "# RUN THIS COMMAND ONLY IF YOU USE GOOGLE COLAB.\n",
    "from google.colab import drive\n",
    "drive.mount('/content/drive')"
   ]
  },
  {
   "cell_type": "code",
   "execution_count": null,
   "id": "a5914bc9",
   "metadata": {},
   "outputs": [],
   "source": [
    "# RUN THIS COMMAND ONLY IF YOU USE GOOGLE COLAB.\n",
    "%cd drive/MyDrive/TechLabs/01_Introduction\\ to\\ Python\\ Programming"
   ]
  },
  {
   "cell_type": "markdown",
   "id": "1b87b34e",
   "metadata": {},
   "source": [
    "# Chapter 11 - Object-oriented Programming\n",
    "### Hey Techie,   \n",
    "Welcome to the final notebook of this Python tutorial series. We encourage you to take this notebook as a template to code along the instruction videos, which you may find at: https://www.py4e.com/lessons/Objects. Today's four videos deal with concept of object-oriented programming. In the end, please try to solve the presented task. As PY4E does not offer an auto-graded assigment for this lecture, you can only double-check your results using the provided test cases.\n",
    "\n",
    "#### Have fun! :-)   \n",
    "*Video length in total*: 30 minutes   \n",
    "*Self-study time*: 30 minutes   \n",
    "*Total*: **60 minutes**   \n",
    "#### Credits\n",
    "Python for Everybody, Dr. Chuck Severance, https://www.py4e.com/, CC.\n",
    "<hr style=\"border:2px solid gray\"> </hr>   \n",
    "   \n",
    "## Object-oriented Programming - Part 1"
   ]
  },
  {
   "cell_type": "code",
   "execution_count": null,
   "id": "a6ebc364",
   "metadata": {},
   "outputs": [],
   "source": [
    "# START YOUR CODE HERE.\n"
   ]
  },
  {
   "cell_type": "markdown",
   "id": "caf3dc55",
   "metadata": {},
   "source": [
    "<hr style=\"border:2px solid gray\"> </hr>   \n",
    "   \n",
    "## Object-oriented Programming - Part 2"
   ]
  },
  {
   "cell_type": "code",
   "execution_count": null,
   "id": "b47889df",
   "metadata": {},
   "outputs": [],
   "source": [
    "# START YOUR CODE HERE.\n"
   ]
  },
  {
   "cell_type": "markdown",
   "id": "b652a2ab",
   "metadata": {},
   "source": [
    "<hr style=\"border:2px solid gray\"> </hr>   \n",
    "   \n",
    "## Object-oriented Programming - Part 3"
   ]
  },
  {
   "cell_type": "code",
   "execution_count": null,
   "id": "63048d41",
   "metadata": {},
   "outputs": [],
   "source": [
    "# START YOUR CODE HERE.\n"
   ]
  },
  {
   "cell_type": "markdown",
   "id": "a3a40c48",
   "metadata": {},
   "source": [
    "<hr style=\"border:2px solid gray\"> </hr>   \n",
    "   \n",
    "## Object-oriented Programming - Part 4"
   ]
  },
  {
   "cell_type": "code",
   "execution_count": null,
   "id": "c9394815",
   "metadata": {},
   "outputs": [],
   "source": [
    "# START YOUR CODE HERE.\n"
   ]
  },
  {
   "cell_type": "markdown",
   "id": "55f785a3",
   "metadata": {},
   "source": [
    "<hr style=\"border:2px solid gray\"> </hr>  \n",
    "\n",
    "## Practice Task   \n",
    "#### 1. Write a class Techie that has four global attributes (part of self) name (str), age (int), profession (str), and location (str). Additionally, write four methods that print one of the global attributes respectively named *get_name*, *get_age*, *get_profession*, and *get_location*.\n",
    "<br /> \n",
    "<details>    \n",
    "<summary>\n",
    "    <font size=\"3\" color=\"red\"><b>Hints (click to expand)</b></font>\n",
    "</summary>\n",
    "<p>\n",
    "    <ul>\n",
    "        <li>Use the built-in input method to read hours and rate per hour separately.</li>\n",
    "        <li>Typecast both inputs to floats.</li>\n",
    "        <li>Print the result by multiplying the hours with their rate per hour using the *-operator.</li>\n",
    "    </ul>\n",
    "</p>\n",
    "</details>"
   ]
  },
  {
   "cell_type": "code",
   "execution_count": null,
   "id": "71212838",
   "metadata": {},
   "outputs": [],
   "source": [
    "# START YOUR CODE HERE.\n"
   ]
  },
  {
   "cell_type": "code",
   "execution_count": null,
   "id": "6c3a3a98",
   "metadata": {},
   "outputs": [],
   "source": [
    "# ENTER YOUR ATTRIBUTES HERE.\n",
    "techie = Techie(name = \"YourName\", age = 99, profession = \"YourProfession\", location = \"YourLocation\")\n",
    "# IF ALL FOUR ATTRIBUTES ARE PRINTED, EVERYTHING WORKS FINE!\n",
    "techie.get_name()\n",
    "techie.get_age()\n",
    "techie.get_profession()\n",
    "techie.get_location()"
   ]
  },
  {
   "cell_type": "markdown",
   "id": "fa62b820",
   "metadata": {},
   "source": [
    "<details>    \n",
    "<summary>\n",
    "    <font size=\"3\" color=\"darkgreen\"><b>Sample Solution (click to expand)</b></font>\n",
    "</summary>\n",
    "<p>\n",
    "    <code>class Techie:</code><br />\n",
    "    <code></code><br />\n",
    "    <code>def __init__(self, name: str, age: int, profession: str, location: str):</code><br />\n",
    "    <code>&nbsp;&nbsp;&nbsp;&nbsp;self.name = name</code><br />\n",
    "    <code>&nbsp;&nbsp;&nbsp;&nbsp;self.age = age</code><br />\n",
    "    <code>&nbsp;&nbsp;&nbsp;&nbsp;self.profession = profession</code><br />\n",
    "    <code>&nbsp;&nbsp;&nbsp;&nbsp;self.location = location</code><br />\n",
    "    <code></code><br />\n",
    "    <code>def get_name(self):</code><br />\n",
    "    <code>&nbsp;&nbsp;&nbsp;&nbsp;print(\"My name is\", self.name, \".\")</code><br />\n",
    "    <code></code><br />\n",
    "    <code>def get_age(self):</code><br />\n",
    "    <code>&nbsp;&nbsp;&nbsp;&nbsp;print(\"I am\", self.age, \"years old!\")</code><br />\n",
    "    <code></code><br />\n",
    "    <code>def get_profession(self):</code><br />\n",
    "    <code>&nbsp;&nbsp;&nbsp;&nbsp;print(\"I am a/an\", self.profession, \".\")</code><br />\n",
    "    <code></code><br />    \n",
    "    <code>def get_location(self):</code><br />\n",
    "    <code>&nbsp;&nbsp;&nbsp;&nbsp;print(\"I participate at TechLabs\", self.location, \".\")</code>\n",
    "</p>\n",
    "</details> "
   ]
  }
 ],
 "metadata": {
  "kernelspec": {
   "display_name": "Python 3 (ipykernel)",
   "language": "python",
   "name": "python3"
  },
  "language_info": {
   "codemirror_mode": {
    "name": "ipython",
    "version": 3
   },
   "file_extension": ".py",
   "mimetype": "text/x-python",
   "name": "python",
   "nbconvert_exporter": "python",
   "pygments_lexer": "ipython3",
   "version": "3.8.9"
  }
 },
 "nbformat": 4,
 "nbformat_minor": 5
}
