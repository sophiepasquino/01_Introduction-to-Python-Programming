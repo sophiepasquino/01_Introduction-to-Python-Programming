{
 "cells": [
  {
   "cell_type": "code",
   "execution_count": null,
   "id": "4610d1d9",
   "metadata": {},
   "outputs": [],
   "source": [
    "# RUN THIS COMMAND ONLY IF YOU USE GOOGLE COLAB.\n",
    "from google.colab import drive\n",
    "drive.mount('/content/drive')"
   ]
  },
  {
   "cell_type": "code",
   "execution_count": null,
   "id": "137d424d",
   "metadata": {},
   "outputs": [],
   "source": [
    "# RUN THIS COMMAND ONLY IF YOU USE GOOGLE COLAB.\n",
    "%cd drive/MyDrive/TechLabs/01_Introduction\\ to\\ Python\\ Programming"
   ]
  },
  {
   "cell_type": "markdown",
   "id": "1b87b34e",
   "metadata": {},
   "source": [
    "# Chapter 5 - Strings\n",
    "### Hey Techie,   \n",
    "Welcome to the fifth notebook of this Python tutorial series. We encourage you to take this notebook as a template to code along the instruction videos, which you may find at: https://www.py4e.com/lessons/strings. Today's two videos deal with variables and how to store and manipulate text data using variables and functions in Python. There is no need to watch the worked exercise. In the end, please try to solve the presented task. If you want to double-check your results, you may also upload them to PY4E. For that, a Google Account is required. On the website, you find the auto-graded code tasks at the very end of each lesson.\n",
    "\n",
    "#### Have fun! :-)   \n",
    "*Video length in total*: 30 minutes   \n",
    "*Self-study time*: 30 minutes   \n",
    "*Total*: **60 minutes**   \n",
    "#### Credits\n",
    "Python for Everybody, Dr. Chuck Severance, https://www.py4e.com/, CC.\n",
    "<hr style=\"border:2px solid gray\"> </hr>   \n",
    "   \n",
    "## Strings - Part 1"
   ]
  },
  {
   "cell_type": "code",
   "execution_count": null,
   "id": "a6ebc364",
   "metadata": {},
   "outputs": [],
   "source": [
    "# START YOUR CODE HERE.\n"
   ]
  },
  {
   "cell_type": "markdown",
   "id": "caf3dc55",
   "metadata": {},
   "source": [
    "<hr style=\"border:2px solid gray\"> </hr>   \n",
    "   \n",
    "## Strings - Part 2"
   ]
  },
  {
   "cell_type": "code",
   "execution_count": null,
   "id": "b47889df",
   "metadata": {},
   "outputs": [],
   "source": [
    "# START YOUR CODE HERE.\n"
   ]
  },
  {
   "cell_type": "markdown",
   "id": "55f785a3",
   "metadata": {},
   "source": [
    "<hr style=\"border:2px solid gray\"> </hr>  \n",
    "\n",
    "## Practice Task   \n",
    "#### 1. Write code using find() and string slicing to extract the number at the end of the line below. Convert the extracted value to a floating point number and print it out.\n",
    "<br /> \n",
    "<details>    \n",
    "<summary>\n",
    "    <font size=\"3\" color=\"red\"><b>Hints (click to expand)</b></font>\n",
    "</summary>\n",
    "<p>\n",
    "    <ul>\n",
    "        <li>The find method returns the index of the character you have been searching for.</li>\n",
    "        <li>String slicing starts at zero and ends at n-1 if n refers to the number of characters.</li>\n",
    "        <li>String slicing is applied from including up to excluding.</li>\n",
    "    </ul>\n",
    "</p>\n",
    "</details>"
   ]
  },
  {
   "cell_type": "code",
   "execution_count": 2,
   "id": "71212838",
   "metadata": {},
   "outputs": [],
   "source": [
    "text = \"X-DSPAM-Confidence:    0.8475\"\n",
    "# START YOUR CODE HERE.\n"
   ]
  },
  {
   "cell_type": "markdown",
   "id": "fa62b820",
   "metadata": {},
   "source": [
    "<details>    \n",
    "<summary>\n",
    "    <font size=\"3\" color=\"darkgreen\"><b>Solution (click to expand)</b></font>\n",
    "</summary>\n",
    "<p>\n",
    "    <code>text = \"X-DSPAM-Confidence:    0.8475\"</code><br />\n",
    "    <code>pos = text.find(\"0\")</code><br />\n",
    "    <code>num = float(text[pos:])</code><br />\n",
    "    <code>print(num)</code><br />\n",
    "</p>\n",
    "</details> "
   ]
  }
 ],
 "metadata": {
  "kernelspec": {
   "display_name": "Python 3 (ipykernel)",
   "language": "python",
   "name": "python3"
  },
  "language_info": {
   "codemirror_mode": {
    "name": "ipython",
    "version": 3
   },
   "file_extension": ".py",
   "mimetype": "text/x-python",
   "name": "python",
   "nbconvert_exporter": "python",
   "pygments_lexer": "ipython3",
   "version": "3.8.9"
  }
 },
 "nbformat": 4,
 "nbformat_minor": 5
}
