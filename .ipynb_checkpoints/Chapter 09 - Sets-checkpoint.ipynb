{
 "cells": [
  {
   "cell_type": "code",
   "execution_count": null,
   "id": "2e7a403f",
   "metadata": {},
   "outputs": [],
   "source": [
    "# RUN THIS COMMAND ONLY IF YOU USE GOOGLE COLAB.\n",
    "from google.colab import drive\n",
    "drive.mount('/content/drive')"
   ]
  },
  {
   "cell_type": "code",
   "execution_count": null,
   "id": "0e3789bf",
   "metadata": {},
   "outputs": [],
   "source": [
    "# RUN THIS COMMAND ONLY IF YOU USE GOOGLE COLAB.\n",
    "%cd drive/MyDrive/TechLabs/01_Introduction\\ to\\ Python\\ Programming"
   ]
  },
  {
   "cell_type": "markdown",
   "id": "272e5f62",
   "metadata": {},
   "source": [
    "# Chapter 9 - Sets\n",
    "### Hey Techie,   \n",
    "Welcome to the ninth notebook of this Python tutorial series. We encourage you to take this notebook as a template to code along the instruction video, which you may find at: https://www.youtube.com/watch?v=r3R3h5ly_8g&list=PLkdX4MYXSiDvC_kSQuS3Smpl7KiRW1EpQ. Today's videos deal with sets that are like lists with non-repeating elements. In the end, please try to solve the presented task. As this lecture is not part of PY4E, you can only double-check your results using the provided test cases.\n",
    "\n",
    "#### Have fun! :-)   \n",
    "*Video length in total*: 20 minutes   \n",
    "*Self-study time*: 20 minutes   \n",
    "*Total*: **40 minutes**   \n",
    "\n",
    "<hr style=\"border:2px solid gray\"> </hr>   \n",
    "   \n",
    "## Sets - Set Methods and Operations to Solve Common Problems"
   ]
  },
  {
   "cell_type": "code",
   "execution_count": null,
   "id": "6174ca44",
   "metadata": {},
   "outputs": [],
   "source": [
    "# START YOUR CODE HERE.\n"
   ]
  },
  {
   "cell_type": "markdown",
   "id": "aa1956af",
   "metadata": {},
   "source": [
    "<hr style=\"border:2px solid gray\"> </hr>  \n",
    "\n",
    "## Practice Task   \n",
    "#### 1. Write a program to read through the data/mbox-short.txt and figure out a non-repeating collection of emails. You can pull the emails from lines that start with \"From \". \n",
    "<br /> \n",
    "<details>    \n",
    "<summary>\n",
    "    <font size=\"3\" color=\"red\"><b>Hints (click to expand)</b></font>\n",
    "</summary>\n",
    "<p>\n",
    "    <ul>\n",
    "        <li>First, store each email you can find in the file</li>\n",
    "        <li>Second, remove the repeating ones from your data structure.</li>\n",
    "    </ul>\n",
    "</p>\n",
    "</details>"
   ]
  },
  {
   "cell_type": "code",
   "execution_count": null,
   "id": "cdb781cd",
   "metadata": {},
   "outputs": [],
   "source": [
    "# START YOUR CODE HERE\n",
    "\n",
    "# THIS ELEMENT SHOULD CONTAIN THE NON-REPEATING EMAIL COLLECTION. \n",
    "emails = ...\n",
    "print(emails)"
   ]
  },
  {
   "cell_type": "code",
   "execution_count": null,
   "id": "c0afa07f",
   "metadata": {},
   "outputs": [],
   "source": [
    "# THIS CELL TESTS YOUR RESULTS.\n",
    "assert \"gopal.ramasammycook@gmail.com\" in emails, \"You did not filter out all emails!\"\n",
    "assert \"wagnermr@iupui.edu\" in emails, \"You did not filter out all emails!\"\n",
    "assert len(emails) == 11, \"Your collection is not non-repeating!\""
   ]
  },
  {
   "cell_type": "markdown",
   "id": "5e75e27b",
   "metadata": {},
   "source": [
    "<details>\n",
    "<summary>\n",
    "    <font size=\"3\" color=\"darkgreen\"><b>Solution (click to expand)</b></font>\n",
    "</summary>\n",
    "<p>\n",
    "    <code>emails = []</code><br />\n",
    "    <code>with open(\"data/mbox-short.txt\", \"r\") as file:</code><br />\n",
    "    <code>&nbsp;&nbsp;&nbsp;&nbsp;file = file.readlines()</code><br />\n",
    "    <code>for line in file:</code><br />\n",
    "    <code>&nbsp;&nbsp;&nbsp;&nbsp;if not line.startswith(\"From \"):</code><br />\n",
    "    <code>&nbsp;&nbsp;&nbsp;&nbsp;&nbsp;&nbsp;&nbsp;&nbsp;continue</code><br />\n",
    "    <code>&nbsp;&nbsp;&nbsp;&nbsp;emails.append(line.split()[1])</code><br />\n",
    "    <code>emails = set(emails)</code><br />\n",
    "    <code>print(emails)</code><br />\n",
    "</p>\n",
    "</details> "
   ]
  }
 ],
 "metadata": {
  "kernelspec": {
   "display_name": "Python 3 (ipykernel)",
   "language": "python",
   "name": "python3"
  },
  "language_info": {
   "codemirror_mode": {
    "name": "ipython",
    "version": 3
   },
   "file_extension": ".py",
   "mimetype": "text/x-python",
   "name": "python",
   "nbconvert_exporter": "python",
   "pygments_lexer": "ipython3",
   "version": "3.8.9"
  }
 },
 "nbformat": 4,
 "nbformat_minor": 5
}
