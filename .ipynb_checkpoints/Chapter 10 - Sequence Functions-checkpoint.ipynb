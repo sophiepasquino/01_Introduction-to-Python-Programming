{
 "cells": [
  {
   "cell_type": "code",
   "execution_count": null,
   "id": "82c266df",
   "metadata": {},
   "outputs": [],
   "source": [
    "# RUN THIS COMMAND ONLY IF YOU USE GOOGLE COLAB.\n",
    "from google.colab import drive\n",
    "drive.mount('/content/drive')"
   ]
  },
  {
   "cell_type": "code",
   "execution_count": null,
   "id": "b46fb860",
   "metadata": {},
   "outputs": [],
   "source": [
    "# RUN THIS COMMAND ONLY IF YOU USE GOOGLE COLAB.\n",
    "%cd drive/MyDrive/TechLabs/01_Introduction\\ to\\ Python\\ Programming"
   ]
  },
  {
   "cell_type": "markdown",
   "id": "4d893e0e",
   "metadata": {},
   "source": [
    "# Chapter 10 - Sequence Functions\n",
    "### Hey Techie,   \n",
    "Welcome to the tenth notebook of this Python tutorial series. We encourage you to take this notebook as a template to code along the instruction videos, which you may find at: https://www.youtube.com/watch?v=-MZiQaNI0QA&list=PLkdX4MYXSiDssQypMzg9goukgtVzq97nN.  Today's three videos deal with different methods that are useful for working with sequences (lists, tuples, sets, etc.). As this lecture is not part of PY4E, you can only double-check your results using the provided test cases.\n",
    "\n",
    "#### Have fun! :-)   \n",
    "*Video length in total*: 13 minutes   \n",
    "*Self-study time*: 13 minutes   \n",
    "*Total*: **26 minutes**   \n",
    "<hr style=\"border:2px solid gray\"> </hr>   \n",
    "\n",
    "## Python Enumerate Function - Python Quick Tips"
   ]
  },
  {
   "cell_type": "code",
   "execution_count": null,
   "id": "1e27fdd8",
   "metadata": {},
   "outputs": [],
   "source": [
    "# START YOUR CODE HERE.\n"
   ]
  },
  {
   "cell_type": "markdown",
   "id": "5a2740ba",
   "metadata": {},
   "source": [
    "<hr style=\"border:2px solid gray\"> </hr>   \n",
    "   \n",
    "## Sorting in Python || Learn Python Programming (Computer Science)"
   ]
  },
  {
   "cell_type": "code",
   "execution_count": null,
   "id": "38b3a6bf",
   "metadata": {},
   "outputs": [],
   "source": [
    "# START YOUR CODE HERE.\n"
   ]
  },
  {
   "cell_type": "markdown",
   "id": "12a172c7",
   "metadata": {},
   "source": [
    "<hr style=\"border:2px solid gray\"> </hr>   \n",
    "   \n",
    "## Zip Function - Python Quick Tips"
   ]
  },
  {
   "cell_type": "code",
   "execution_count": null,
   "id": "837b454f",
   "metadata": {},
   "outputs": [],
   "source": [
    "# START YOUR CODE HERE.\n"
   ]
  },
  {
   "cell_type": "markdown",
   "id": "02d64301",
   "metadata": {},
   "source": [
    "<hr style=\"border:2px solid gray\"> </hr>   \n",
    "\n",
    "## Practice Task   \n",
    "#### 1. Write a program to read through the data/mbox-short.txt and figure out the line indexes (starting at zero) that contain emails. Every line that contains an email starts with \"From \". Store the indexes in a list called *indexes*.\n",
    "<br /> \n",
    "<details>    \n",
    "<summary>\n",
    "    <font size=\"3\" color=\"red\"><b>Hints (click to expand)</b></font>\n",
    "</summary>\n",
    "<p>\n",
    "    <ul>\n",
    "        <li>Which of the discussed methods can you use?</li>\n",
    "        <li>Instead of storing the emails, store their line indexes.</li>\n",
    "    </ul>\n",
    "</p>\n",
    "</details>"
   ]
  },
  {
   "cell_type": "code",
   "execution_count": null,
   "id": "efea8c7c",
   "metadata": {},
   "outputs": [],
   "source": [
    "indexes = []\n",
    "# START YOUR CODE HERE.\n"
   ]
  },
  {
   "cell_type": "code",
   "execution_count": null,
   "id": "e3deb3e4",
   "metadata": {},
   "outputs": [],
   "source": [
    "# THIS CELL TESTS YOUR RESULTS.\n",
    "assert len(indexes) == 27, \"It seems as you did filter out not every line index!\"\n",
    "assert indexes[2] == 130, \"You filtered out a wrong line!\"\n",
    "assert indexes[-1] == 1837, \"Your filtered out a wrong line!\""
   ]
  },
  {
   "cell_type": "markdown",
   "id": "7dd16e4e",
   "metadata": {},
   "source": [
    "<details>\n",
    "<summary>\n",
    "    <font size=\"3\" color=\"darkgreen\"><b>Solution (click to expand)</b></font>\n",
    "</summary>\n",
    "<p>\n",
    "    <code>indexes = []</code><br />\n",
    "    <code>with open(\"data/mbox-short.txt\", \"r\") as file:</code><br />\n",
    "    <code>&nbsp;&nbsp;&nbsp;&nbsp;file = file.readlines()</code><br />\n",
    "    <code>for index, line in enumerate(file):</code><br />\n",
    "    <code>&nbsp;&nbsp;&nbsp;&nbsp;if not line.startswith(\"From \"):</code><br />\n",
    "    <code>&nbsp;&nbsp;&nbsp;&nbsp;&nbsp;&nbsp;&nbsp;&nbsp;continue</code><br />\n",
    "    <code>&nbsp;&nbsp;&nbsp;&nbsp;indexes.append(index)</code>\n",
    "</p>\n",
    "</details>   \n",
    "   \n",
    "#### 2. Write a program to read through the data/mbox-short.txt and figure out emails as well as their line indexes. Lines that contain emails start with \"From \". Store the pairs in a list of tuples named *pairs* that have the format (index, email). Sort this list with regard to the emails in alphabetical order.\n",
    "<br /> \n",
    "<details>\n",
    "<summary>\n",
    "    <font size=\"3\" color=\"red\"><b>Hints (click to expand)</b></font>\n",
    "</summary>\n",
    "<p>\n",
    "    <ul>\n",
    "        <li>First, store each email with their regarding index in a list as a tuple.</li>\n",
    "        <li>Second, sort this list with regard to the emails in alphabetical order.</li>\n",
    "    </ul>\n",
    "</p>\n",
    "</details>"
   ]
  },
  {
   "cell_type": "code",
   "execution_count": null,
   "id": "38da263a",
   "metadata": {},
   "outputs": [],
   "source": [
    "pairs = []\n",
    "# START YOUR CODE HERE.\n"
   ]
  },
  {
   "cell_type": "code",
   "execution_count": null,
   "id": "c4e8fca8",
   "metadata": {},
   "outputs": [],
   "source": [
    "# THIS CELL TESTS YOUR RESULTS.\n",
    "assert len(pairs) == 27, \"It seems as you did not filter out every pair!\"\n",
    "assert pairs[2][0] == 493, \"You filtered out a wrong pair!\"\n",
    "assert pairs[-1][0] == 904, \"Your filtered out a wrong pair!\""
   ]
  },
  {
   "cell_type": "markdown",
   "id": "531b8a11",
   "metadata": {},
   "source": [
    "<details>    \n",
    "<summary>\n",
    "    <font size=\"3\" color=\"darkgreen\"><b>Solution (click to expand)</b></font>\n",
    "</summary>\n",
    "<p>\n",
    "    <code>pairs = []</code><br />\n",
    "    <code>with open(\"data/mbox-short.txt\", \"r\") as file:</code><br />\n",
    "    <code>&nbsp;&nbsp;&nbsp;&nbsp;file = file.readlines()</code><br />\n",
    "    <code>for index, line in enumerate(file):</code><br />\n",
    "    <code>&nbsp;&nbsp;&nbsp;&nbsp;if not line.startswith(\"From \"):</code><br />\n",
    "    <code>&nbsp;&nbsp;&nbsp;&nbsp;&nbsp;&nbsp;&nbsp;&nbsp;continue</code><br />\n",
    "    <code>&nbsp;&nbsp;&nbsp;&nbsp;pairs.append((index, line.split()[1]))</code><br />\n",
    "    <code>pairs = sorted(pairs, key = lambda x: x[1])</code><br />\n",
    "</p>\n",
    "</details>   "
   ]
  }
 ],
 "metadata": {
  "kernelspec": {
   "display_name": "Python 3 (ipykernel)",
   "language": "python",
   "name": "python3"
  },
  "language_info": {
   "codemirror_mode": {
    "name": "ipython",
    "version": 3
   },
   "file_extension": ".py",
   "mimetype": "text/x-python",
   "name": "python",
   "nbconvert_exporter": "python",
   "pygments_lexer": "ipython3",
   "version": "3.8.9"
  }
 },
 "nbformat": 4,
 "nbformat_minor": 5
}
