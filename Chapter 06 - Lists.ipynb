{
 "cells": [
  {
   "cell_type": "markdown",
   "id": "e3e651a7",
   "metadata": {},
   "source": [
    "<hr style=\"border:2px solid gray\"> </hr>   \n",
    "   \n",
    "## Lists - Part 1"
   ]
  },
  {
   "cell_type": "code",
   "execution_count": 1,
   "id": "38a95db1",
   "metadata": {},
   "outputs": [
    {
     "name": "stdout",
     "output_type": "stream",
     "text": [
      "['Joseph', 'Glenn', 'Sally']\n",
      "Glenn\n",
      "[2, 14, 28, 41, 63]\n",
      "Happy New Year: Joseph\n",
      "Happy New Year: Glenn\n",
      "Happy New Year: Sally\n",
      "3\n",
      "[1, 2, 3, 4, 5, 6]\n",
      "[41, 12]\n",
      "[9, 41, 12, 3]\n",
      "[3, 74, 15]\n",
      "[9, 41, 12, 3, 74, 15]\n"
     ]
    }
   ],
   "source": [
    "# START YOUR CODE HERE.\n",
    "# Creating a list and printing\n",
    "friends = ['Joseph', 'Glenn', 'Sally']\n",
    "print(friends)  # Output: ['Joseph', 'Glenn', 'Sally']\n",
    "\n",
    "# Accessing list elements by index\n",
    "print(friends[1])  # Output: Glenn\n",
    "\n",
    "# Changing a list element (lists are mutable)\n",
    "lotto = [2, 14, 26, 41, 63]\n",
    "lotto[2] = 28\n",
    "print(lotto)  # Output: [2, 14, 28, 41, 63]\n",
    "\n",
    "# Looping through a list\n",
    "for friend in friends:\n",
    "    print(\"Happy New Year:\", friend)\n",
    "\n",
    "# Counting items in a list\n",
    "print(len(friends))  # Output: 3\n",
    "\n",
    "# Concatenating lists\n",
    "a = [1, 2, 3]\n",
    "b = [4, 5, 6]\n",
    "c = a + b\n",
    "print(c)  # Output: [1, 2, 3, 4, 5, 6]\n",
    "\n",
    "# Slicing lists\n",
    "t = [9, 41, 12, 3, 74, 15]\n",
    "print(t[1:3])  # Output: [41, 12]\n",
    "print(t[:4])   # Output: [9, 41, 12, 3]\n",
    "print(t[3:])   # Output: [3, 74, 15]\n",
    "print(t[:])    # Output: [9, 41, 12, 3, 74, 15]\n"
   ]
  },
  {
   "cell_type": "markdown",
   "id": "3bc6be1f",
   "metadata": {},
   "source": [
    "<hr style=\"border:2px solid gray\"> </hr>   \n",
    "   \n",
    "## Lists - Part 2"
   ]
  },
  {
   "cell_type": "code",
   "execution_count": 3,
   "id": "1ed373a7",
   "metadata": {},
   "outputs": [
    {
     "name": "stdout",
     "output_type": "stream",
     "text": [
      "['book', 99, 'cookie']\n",
      "True\n",
      "True\n",
      "['Glenn', 'Joseph', 'Sally']\n",
      "6\n",
      "74\n",
      "3\n",
      "154\n",
      "25.666666666666668\n",
      "['With', 'three', 'words']\n",
      "['first', 'second', 'third']\n",
      "uct.ac.za\n"
     ]
    }
   ],
   "source": [
    "# START YOUR CODE HERE.\n",
    "# Building a list from scratch\n",
    "stuff = list()\n",
    "stuff.append('book')\n",
    "stuff.append(99)\n",
    "stuff.append('cookie')\n",
    "print(stuff)  # Output: ['book', 99, 'cookie']\n",
    "\n",
    "# Checking if an item is in a list\n",
    "some = [1, 9, 21, 10, 16]\n",
    "print(9 in some)       # Output: True\n",
    "print(15 not in some)  # Output: True\n",
    "\n",
    "# Sorting a list\n",
    "friends.sort()\n",
    "print(friends)  # Output: ['Glenn', 'Joseph', 'Sally']\n",
    "\n",
    "# List functions\n",
    "nums = [3, 41, 12, 9, 74, 15]\n",
    "print(len(nums))      # Output: 6\n",
    "print(max(nums))      # Output: 74\n",
    "print(min(nums))      # Output: 3\n",
    "print(sum(nums))      # Output: 154\n",
    "print(sum(nums) / len(nums))  # Output: 25.6\n",
    "\n",
    "# Splitting a string into a list\n",
    "abc = \"With three words\"\n",
    "stuff = abc.split()\n",
    "print(stuff)  # Output: ['With', 'three', 'words']\n",
    "\n",
    "# Splitting using a delimiter\n",
    "line = \"first;second;third\"\n",
    "thing = line.split(';')\n",
    "print(thing)  # Output: ['first', 'second', 'third']\n",
    "\n",
    "# Parsing and extracting using split\n",
    "data = \"From stephen.marquard@uct.ac.za Sat Jan 5 09:14:16 2008\"\n",
    "words = data.split()\n",
    "email = words[1]\n",
    "domain = email.split('@')[1]\n",
    "print(domain)  # Output: uct.ac.za\n"
   ]
  },
  {
   "cell_type": "markdown",
   "id": "e14bf9d0",
   "metadata": {},
   "source": [
    "<hr style=\"border:2px solid gray\"> </hr>   \n",
    "   \n",
    "## Lists - Part 3"
   ]
  },
  {
   "cell_type": "code",
   "execution_count": null,
   "id": "c4a891c0",
   "metadata": {},
   "outputs": [],
   "source": [
    "# START YOUR CODE HERE.\n",
    "\n",
    "# Counting word frequency in a text\n",
    "text = \"banana apple banana orange banana\"\n",
    "word_list = text.split()\n",
    "word_count = dict()\n",
    "\n",
    "for word in word_list:\n",
    "    word_count[word] = word_count.get(word, 0) + 1\n",
    "\n",
    "print(word_count)  # Output: {'banana': 3, 'apple': 1, 'orange': 1}\n",
    "\n",
    "# Finding the most common word\n",
    "largest_count = -1\n",
    "common_word = None\n",
    "\n",
    "for word, count in word_count.items():\n",
    "    if count > largest_count:\n",
    "        largest_count = count\n",
    "        common_word = word\n",
    "\n",
    "print(\"Most common word:\", common_word, \"appeared\", largest_count, \"times\")\n",
    "\n",
    "# Parsing file and finding email senders\n",
    "file_name = input(\"Enter file name: \")\n",
    "try:\n",
    "    with open(file_name) as fhand:\n",
    "        sender_count = dict()\n",
    "        for line in fhand:\n",
    "            line = line.rstrip()\n",
    "            if not line.startswith(\"From \"): continue\n",
    "            words = line.split()\n",
    "            sender = words[1]\n",
    "            sender_count[sender] = sender_count.get(sender, 0) + 1\n",
    "\n",
    "    print(\"Email senders and counts:\", sender_count)\n",
    "except FileNotFoundError:\n",
    "    print(\"File not found:\", file_name)\n",
    "\n",
    "# Double split pattern to extract domain from email address\n",
    "data = \"From stephen.marquard@uct.ac.za Sat Jan 5 09:14:16 2008\"\n",
    "words = data.split()\n",
    "email = words[1]\n",
    "domain = email.split('@')[1]\n",
    "print(\"Extracted domain:\", domain)  # Output: uct.ac.za\n",
    "\n",
    "# Removing duplicates from a list\n",
    "numbers = [1, 2, 3, 1, 2, 4, 5]\n",
    "unique_numbers = list(set(numbers))\n",
    "print(\"Unique numbers:\", unique_numbers)  # Output: [1, 2, 3, 4, 5]"
   ]
  },
  {
   "cell_type": "markdown",
   "id": "11e677ad",
   "metadata": {},
   "source": [
    "<hr style=\"border:2px solid gray\"> </hr>  \n",
    "\n",
    "## Practice Tasks   \n",
    "#### 1. Open the file data/romeo.txt and read it line by line. For each line, split the line into a list of words using the split() method. The program should build a list of words. For each word on each line check to see if the word is already in the list and if not append it to the list. When the program completes, sort and print the resulting words in alphabetical order.\n",
    "<br /> \n",
    "<details>    \n",
    "<summary>\n",
    "    <font size=\"3\" color=\"red\"><b>Hints (click to expand)</b></font>\n",
    "</summary>\n",
    "<p>\n",
    "    <ul>\n",
    "        <li>Open the file using \"with open(path, \"r\") as file\".</li>\n",
    "        <li>The readlines-method returns a list containing the different lines as elements.</li>\n",
    "        <li>One line can be split into a list of words using the split-method.</li>\n",
    "        <li>Remind yourself of the not in operator.</li>\n",
    "    </ul>\n",
    "</p>\n",
    "</details>"
   ]
  },
  {
   "cell_type": "code",
   "execution_count": null,
   "id": "1f5fb1ba",
   "metadata": {
    "scrolled": true
   },
   "outputs": [],
   "source": [
    "# START YOUR CODE HERE.\n",
    "words = []\n",
    "with open (\"data/romeo.txt\", \"r\") as file:\n",
    "file = file. readlines (\n",
    "for line in file:\n",
    "text = line.split ()\n",
    "for word in text:\n",
    "if word not in words:\n",
    "words.append (word)\n",
    "print(sorted (words) )"
   ]
  },
  {
   "cell_type": "markdown",
   "id": "0e137107",
   "metadata": {},
   "source": [
    "\n",
    "  \n",
    "#### 2. Open the file data/mbox-short.txt and read it line by line. When you find a line that starts with \"From \" like the following line:\n",
    "```From stephen.marquard@uct.ac.za Sat Jan  5 09:14:16 2008```\n",
    "#### You will parse the From line using split() and print out the second word in the line (i.e. the entire address of the person who sent the message). Then print out a count at the end. Hint: make sure not to include the lines that start with \"From:\".\n",
    "<br /> \n",
    "<details>    \n",
    "<summary>\n",
    "    <font size=\"3\" color=\"red\"><b>Hints (click to expand)</b></font>\n",
    "</summary>\n",
    "<p>\n",
    "    <ul>\n",
    "        <li>The startswith-method checks whether a string starts with the specified characters and returns True or  False.</li> \n",
    "        <li>What is the continue operator good for?</li>\n",
    "        <li>List indexing starts at 0 and goes up to n-1 if n represents the number of elements.</li>\n",
    "    </ul>\n",
    "</p>\n",
    "</details>"
   ]
  },
  {
   "cell_type": "code",
   "execution_count": null,
   "id": "99584dda",
   "metadata": {},
   "outputs": [],
   "source": [
    "# START YOUR CODE HERE.\n",
    "count = 0\n",
    "\"r\") as file:\n",
    "with open (\"data/mbox-short.txt\", \"p') as file:\n",
    "file = file. readlines ()\n",
    "for line in file:\n",
    "if not line.startswith(\"From \")\n",
    "continue else:\n",
    "count += 1\n",
    "print(line.split () [11)\n",
    "print (\"There were\", count,\n",
    "count, \"lines in the file with From as the first word.\")"
   ]
  }
 ],
 "metadata": {
  "kernelspec": {
   "display_name": "Python 3",
   "language": "python",
   "name": "python3"
  },
  "language_info": {
   "codemirror_mode": {
    "name": "ipython",
    "version": 3
   },
   "file_extension": ".py",
   "mimetype": "text/x-python",
   "name": "python",
   "nbconvert_exporter": "python",
   "pygments_lexer": "ipython3",
   "version": "3.13.2"
  }
 },
 "nbformat": 4,
 "nbformat_minor": 5
}
