{
 "cells": [
  {
   "cell_type": "markdown",
   "id": "1b87b34e",
   "metadata": {},
   "source": [
    "\n",
    "   \n",
    "## Tuples - Part 1"
   ]
  },
  {
   "cell_type": "code",
   "execution_count": null,
   "id": "a6ebc364",
   "metadata": {},
   "outputs": [],
   "source": [
    "# START YOUR CODE HERE.\n",
    "# Creating and using tuples\n",
    "x = ('Glenn', 'Sally', 'Joseph')\n",
    "print(x[2])  # Output: Joseph\n",
    "\n",
    "y = (1, 9, 2)\n",
    "print(y)  # Output: (1, 9, 2)\n",
    "print(max(y))  # Output: 9\n",
    "\n",
    "# Iterating through a tuple\n",
    "for item in y:\n",
    "    print(item)  # Output: 1 9 2\n",
    "\n",
    "\n",
    "# Tuple comparison\n",
    "print((0, 1, 2) < (5, 1, 2))  # Output: True\n",
    "print(('Jones', 'Sally') < ('Jones', 'Sam'))  # Output: True\n",
    "print(('Jones', 'Sally') > ('Adams', 'Sam'))  # Output: True\n",
    "\n",
    "# Tuples and assignment\n",
    "(a, b) = (99, 98)\n",
    "print(a)  # Output: 99\n",
    "print(b)  # Output: 98\n",
    "\n",
    "# Using tuples with dictionaries\n",
    "d = {'csev': 2, 'cwen': 4}\n",
    "for k, v in d.items():\n",
    "    print(k, v)  # Output: csev 2 cwen 4\n",
    "\n",
    "# Direct assignment without parentheses\n",
    "x, y = 4, 'fred'\n",
    "print(x, y)  # Output: 4 fred"
   ]
  },
  {
   "cell_type": "markdown",
   "id": "caf3dc55",
   "metadata": {},
   "source": [
    "<hr style=\"border:2px solid gray\"> </hr>   \n",
    "   \n",
    "## Tuples - Part 2"
   ]
  },
  {
   "cell_type": "code",
   "execution_count": null,
   "id": "b47889df",
   "metadata": {},
   "outputs": [],
   "source": [
    "# START YOUR CODE HERE.\n",
    "\n",
    "# Unpacking tuples\n",
    "tup = (4, 'fred')\n",
    "a, b = tup\n",
    "print(a)  # Output: 4\n",
    "print(b)  # Output: fred\n",
    "\n",
    "# Tuple in dictionary iteration\n",
    "jjj = {'chuck': 1, 'fred': 42, 'jan': 100}\n",
    "for key, value in jjj.items():\n",
    "    print(key, value)\n",
    "\n",
    "# List of tuples from a dictionary\n",
    "d = {'a': 10, 'b': 1, 'c': 22}\n",
    "print(sorted([(v, k) for k, v in d.items()], reverse=True))  # Output: [(22, 'c'), (10, 'a'), (1, 'b')]\n"
   ]
  },
  {
   "cell_type": "markdown",
   "id": "55f785a3",
   "metadata": {},
   "source": [
    "<hr style=\"border:2px solid gray\"> </hr>  \n",
    "\n",
    "## Practice Task   \n",
    "#### 1. Write a program to read through the data/mbox-short.txt and figure out the distribution by hour of the day for each of the messages. You can pull the hour out from the 'From ' line by finding the time and then splitting the string a second time using a colon.\n",
    "```From stephen.marquard@uct.ac.za Sat Jan  5 09:14:16 2008```\n",
    "#### Once you have accumulated the counts for each hour, print out the counts, sorted by hour in the following format: Hour: Count.\n",
    "<br /> \n",
    "<details>    \n",
    "<summary>\n",
    "    <font size=\"3\" color=\"red\"><b>Hints (click to expand)</b></font>\n",
    "</summary>\n",
    "<p>\n",
    "    <ul>\n",
    "        <li>Can you reuse code you have already written?</li>\n",
    "        <li>Remind yourself of list indexing.</li>\n",
    "        <li>Remind yourself of the get-method to access values in dictionaries.</li>\n",
    "        <li>What does the items-method return if it is called on a dictionary?</li>\n",
    "    </ul>\n",
    "</p>\n",
    "</details>"
   ]
  },
  {
   "cell_type": "code",
   "execution_count": null,
   "id": "71212838",
   "metadata": {},
   "outputs": [],
   "source": [
    "# START YOUR CODE HERE.\n",
    "hour counts = {}\n",
    "with open (\"data/mbox-short.txt\", \"\") as file:\n",
    "file = file. readlines ()\n",
    "for line in file:\n",
    "if not line.startswith(\"From \")\n",
    "continue\n",
    "time = line.split () [5] [:21\n",
    "hour_counts [time] = hour_counts. get (time, 0) + 1\n",
    "for key, value in sorted (list (hour_counts.items ())):\n",
    "print (key, value)"
   ]
  },
  {
   "cell_type": "markdown",
   "id": "fa62b820",
   "metadata": {},
   "source": [
    "<details>\n",
    "<summary>\n",
    "    <font size=\"3\" color=\"darkgreen\"><b>Solution (click to expand)</b></font>\n",
    "</summary>\n",
    "<p>\n",
    "    <code>hour_counts = {}</code><br />\n",
    "    <code>with open(\"data/mbox-short.txt\", \"r\") as file:</code><br />\n",
    "    <code>&nbsp;&nbsp;&nbsp;&nbsp;file = file.readlines()</code><br />\n",
    "    <code>for line in file:</code><br />\n",
    "    <code>&nbsp;&nbsp;&nbsp;&nbsp;if not line.startswith(\"From \"):</code><br />\n",
    "    <code>&nbsp;&nbsp;&nbsp;&nbsp;&nbsp;&nbsp;&nbsp;&nbsp;continue</code><br />\n",
    "    <code>&nbsp;&nbsp;&nbsp;&nbsp;time = line.split()[5][:2]</code><br />\n",
    "    <code>&nbsp;&nbsp;&nbsp;&nbsp;hour_counts[time] = hour_counts.get(time, 0) + 1</code><br />\n",
    "    <code>for key, value in sorted(list(hour_counts.items())):</code><br />\n",
    "    <code>&nbsp;&nbsp;&nbsp;&nbsp;print(key, value)</code><br />\n",
    "</p>\n",
    "</details> "
   ]
  }
 ],
 "metadata": {
  "kernelspec": {
   "display_name": "Python 3 (ipykernel)",
   "language": "python",
   "name": "python3"
  },
  "language_info": {
   "codemirror_mode": {
    "name": "ipython",
    "version": 3
   },
   "file_extension": ".py",
   "mimetype": "text/x-python",
   "name": "python",
   "nbconvert_exporter": "python",
   "pygments_lexer": "ipython3",
   "version": "3.8.9"
  }
 },
 "nbformat": 4,
 "nbformat_minor": 5
}
