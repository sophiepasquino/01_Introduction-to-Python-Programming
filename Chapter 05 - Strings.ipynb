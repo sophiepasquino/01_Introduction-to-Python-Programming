{
 "cells": [
  {
   "cell_type": "markdown",
   "id": "0bac47c0",
   "metadata": {},
   "source": [
    "<hr style=\"border:2px solid gray\"> </hr>   \n",
    "   \n",
    "## Strings - Part 1"
   ]
  },
  {
   "cell_type": "code",
   "execution_count": 2,
   "id": "a6ebc364",
   "metadata": {},
   "outputs": [
    {
     "name": "stdout",
     "output_type": "stream",
     "text": [
      "Hello there\n",
      "124\n",
      "Hello, !\n",
      "a\n",
      "6\n",
      "b\n",
      "a\n",
      "n\n",
      "a\n",
      "n\n",
      "a\n",
      "b\n",
      "a\n",
      "n\n",
      "a\n",
      "n\n",
      "a\n",
      "Number of 'a' in 'banana': 3\n"
     ]
    }
   ],
   "source": [
    "# START YOUR CODE HERE.\n",
    "# Concatenation\n",
    "str1 = \"Hello \"\n",
    "str2 = \"there\"\n",
    "bob = str1 + str2\n",
    "print(bob)  # Output: Hellothere\n",
    "\n",
    "# Converting strings to integers\n",
    "str3 = \"123\"\n",
    "x = int(str3) + 1\n",
    "print(x)  # Output: 124\n",
    "\n",
    "# Reading input and converting\n",
    "name = input(\"Enter your name: \")\n",
    "print(f\"Hello, {name}!\")\n",
    "\n",
    "# Looking inside strings\n",
    "fruit = \"banana\"\n",
    "print(fruit[1])  # Output: a\n",
    "\n",
    "# Length of a string\n",
    "print(len(fruit))  # Output: 6\n",
    "\n",
    "# Looping through strings with a while loop\n",
    "index = 0\n",
    "while index < len(fruit):\n",
    "    letter = fruit[index]\n",
    "    print(letter)\n",
    "    index += 1\n",
    "\n",
    "# Looping through strings with a for loop\n",
    "for letter in fruit:\n",
    "    print(letter)\n",
    "\n",
    "# Counting occurrences of a letter\n",
    "word = \"banana\"\n",
    "count = 0\n",
    "for letter in word:\n",
    "    if letter == 'a':\n",
    "        count += 1\n",
    "print(f\"Number of 'a' in 'banana': {count}\")  # Output: 3\n"
   ]
  },
  {
   "cell_type": "markdown",
   "id": "caf3dc55",
   "metadata": {},
   "source": [
    "<hr style=\"border:2px solid gray\"> </hr>   \n",
    "   \n",
    "## Strings - Part 2"
   ]
  },
  {
   "cell_type": "code",
   "execution_count": 3,
   "id": "b47889df",
   "metadata": {},
   "outputs": [
    {
     "name": "stdout",
     "output_type": "stream",
     "text": [
      "Mont\n",
      "P\n",
      "Python\n",
      "Hello There\n",
      "Hello Jane\n",
      "HELLO BOB\n",
      "hello bob\n",
      "Hello Bob\n",
      "True\n"
     ]
    }
   ],
   "source": [
    "# START YOUR CODE HERE.\n",
    "# String slicing\n",
    "s = \"Monty Python\"\n",
    "print(s[0:4])    # Output: Mont\n",
    "print(s[6:7])    # Output: P\n",
    "print(s[6:20])   # Output: Python\n",
    "\n",
    "# String concatenation\n",
    "a = \"Hello\"\n",
    "b = a + \" \" + \"There\"\n",
    "print(b)  # Output: Hello There\n",
    "\n",
    "# String searching and replacing\n",
    "greet = \"Hello Bob\"\n",
    "nstr = greet.replace(\"Bob\", \"Jane\")\n",
    "print(nstr)  # Output: Hello Jane\n",
    "\n",
    "# Converting to uppercase and lowercase\n",
    "print(greet.upper())  # Output: HELLO BOB\n",
    "print(greet.lower())  # Output: hello bob\n",
    "\n",
    "# Stripping whitespace\n",
    "greet = \"   Hello Bob  \"\n",
    "print(greet.strip())  # Output: Hello Bob\n",
    "\n",
    "# Checking prefixes\n",
    "line = \"Please have a nice day\"\n",
    "print(line.startswith(\"Please\"))  # Output: True\n"
   ]
  },
  {
   "cell_type": "markdown",
   "id": "55f785a3",
   "metadata": {},
   "source": [
    "<hr style=\"border:2px solid gray\"> </hr>  \n",
    "\n",
    "## Practice Task   \n",
    "#### 1. Write code using find() and string slicing to extract the number at the end of the line below. Convert the extracted value to a floating point number and print it out.\n",
    "<br /> \n",
    "<details>    \n",
    "<summary>\n",
    "    <font size=\"3\" color=\"red\"><b>Hints (click to expand)</b></font>\n",
    "</summary>\n",
    "<p>\n",
    "    <ul>\n",
    "        <li>The find method returns the index of the character you have been searching for.</li>\n",
    "        <li>String slicing starts at zero and ends at n-1 if n refers to the number of characters.</li>\n",
    "        <li>String slicing is applied from including up to excluding.</li>\n",
    "    </ul>\n",
    "</p>\n",
    "</details>"
   ]
  },
  {
   "cell_type": "code",
   "execution_count": 1,
   "id": "71212838",
   "metadata": {},
   "outputs": [
    {
     "name": "stdout",
     "output_type": "stream",
     "text": [
      "0.8475\n"
     ]
    }
   ],
   "source": [
    "text = \"X-DSPAM-Confidence:    0.8475\"\n",
    "# START YOUR CODE HERE.\n",
    "text = \"X-DSPAM-Confidence: 0.8475\"\n",
    "pos = text. find(\"0\" )\n",
    "num = float (text [pos: ])\n",
    "print (num)"
   ]
  },
  {
   "cell_type": "markdown",
   "id": "fa62b820",
   "metadata": {},
   "source": [
    "<details>    \n",
    "<summary>\n",
    "    <font size=\"3\" color=\"darkgreen\"><b>Solution (click to expand)</b></font>\n",
    "</summary>\n",
    "<p>\n",
    "    <code>text = \"X-DSPAM-Confidence:    0.8475\"</code><br />\n",
    "    <code>pos = text.find(\"0\")</code><br />\n",
    "    <code>num = float(text[pos:])</code><br />\n",
    "    <code>print(num)</code><br />\n",
    "</p>\n",
    "</details> "
   ]
  }
 ],
 "metadata": {
  "kernelspec": {
   "display_name": "Python 3",
   "language": "python",
   "name": "python3"
  },
  "language_info": {
   "codemirror_mode": {
    "name": "ipython",
    "version": 3
   },
   "file_extension": ".py",
   "mimetype": "text/x-python",
   "name": "python",
   "nbconvert_exporter": "python",
   "pygments_lexer": "ipython3",
   "version": "3.13.2"
  }
 },
 "nbformat": 4,
 "nbformat_minor": 5
}
