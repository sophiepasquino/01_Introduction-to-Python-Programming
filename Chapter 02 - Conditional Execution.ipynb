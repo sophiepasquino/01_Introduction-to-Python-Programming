{
 "cells": [
  {
   "cell_type": "code",
   "execution_count": null,
   "id": "38a95db1",
   "metadata": {},
   "outputs": [],
   "source": [
    "# START YOUR CODE HERE.\n",
    "# Ask the user to enter a number\n",
    "num = input(\"Enter a number: \")\n",
    "\n",
    "# Convert to float\n",
    "num = float(num)\n",
    "\n",
    "# Conditional logic\n",
    "if num > 0:\n",
    "    print(\"The number is positive.\")\n",
    "elif num < 0:\n",
    "    print(\"The number is negative.\")\n",
    "else:\n",
    "    print(\"The number is zero.\")\n"
   ]
  },
  {
   "cell_type": "markdown",
   "id": "3bc6be1f",
   "metadata": {},
   "source": [
    "<hr style=\"border:2px solid gray\"> </hr>   \n",
    "   \n",
    "## Conditional Execution - Part 2"
   ]
  },
  {
   "cell_type": "code",
   "execution_count": null,
   "id": "1ed373a7",
   "metadata": {},
   "outputs": [],
   "source": [
    "# START YOUR CODE HERE.\n",
    "# Ask the user to enter their score\n",
    "score = input(\"Enter a score between 0.0 and 1.0: \")\n",
    "\n",
    "try:\n",
    "    score = float(score)\n",
    "\n",
    "    if score < 0.0 or score > 1.0:\n",
    "        print(\"Error: Score out of range.\")\n",
    "    elif score >= 0.9:\n",
    "        print(\"Grade: A\")\n",
    "    elif score >= 0.8:\n",
    "        print(\"Grade: B\")\n",
    "    elif score >= 0.7:\n",
    "        print(\"Grade: C\")\n",
    "    elif score >= 0.6:\n",
    "        print(\"Grade: D\")\n",
    "    else:\n",
    "        print(\"Grade: F\")\n",
    "except:\n",
    "    print(\"Error: Please enter a numeric value.\")"
   ]
  },
  {
   "cell_type": "markdown",
   "id": "11e677ad",
   "metadata": {},
   "source": [
    "<hr style=\"border:2px solid gray\"> </hr>   \n",
    "   \n",
    "## Practice Tasks   \n",
    "#### 1. Write a program to prompt the user for hours and rate per hour using input to compute gross pay. Pay the hourly rate for the hours up to 40 and 1.5 times the hourly rate for all hours worked above 40 hours. Use 45 hours and a rate of 10.50 per hour to test the program (the pay should be 498.75). You should use input to read a string and float() to convert the string to a number. Do not worry about error checking the user input - assume the user types numbers properly. Print your computed pay.   \n",
    "<br /> \n",
    "<details>    \n",
    "<summary>\n",
    "    <font size=\"3\" color=\"red\"><b>Hints (click to expand)</b></font>\n",
    "</summary>\n",
    "<p>\n",
    "    <ul>\n",
    "        <li>Use the built-in input method to read hours and rate per hour separately.</li>\n",
    "        <li>Typecast both inputs to floats.</li>\n",
    "        <li>Use an if-condition to test whether the hours are below or equal to 40 hours.</li>\n",
    "        <li>Print the result by multiplying the hours with their rate per hour using the *-operator.</li>\n",
    "    </ul>\n",
    "</p>\n",
    "</details>"
   ]
  },
  {
   "cell_type": "code",
   "execution_count": null,
   "id": "1f5fb1ba",
   "metadata": {
    "scrolled": true
   },
   "outputs": [],
   "source": [
    "# START YOUR CODE HERE.\n",
    "# Prompt the user for hours and rate\n",
    "hrs = input(\"Enter Hours: \")\n",
    "hrs = float(hrs)\n",
    "\n",
    "rate = input(\"Enter Rate: \")\n",
    "rate = float(rate)\n",
    "\n",
    "# Calculate pay with overtime\n",
    "if hrs <= 40:\n",
    "    pay = hrs * rate\n",
    "else:\n",
    "    pay = 40 * rate + (hrs - 40) * rate * 1.5\n",
    "\n",
    "# Print the result\n",
    "print(\"Pay:\", pay)"
   ]
  },
  {
   "cell_type": "markdown",
   "id": "0e137107",
   "metadata": {},
   "source": [
    "<details>    \n",
    "<summary>\n",
    "    <font size=\"3\" color=\"darkgreen\"><b>Solution (click to expand)</b></font>\n",
    "</summary>\n",
    "<p>\n",
    "    <code>hrs = input(\"Enter Hours: \")</code><br />\n",
    "    <code>hrs = float(hrs)</code><br />\n",
    "    <code>rate = input(\"Enter Rate: \")</code><br />\n",
    "    <code>rate = float(rate)</code><br />\n",
    "    <code>if hrs <= 40:</code><br />\n",
    "    <code>&nbsp;&nbsp;&nbsp;&nbsp;print(hrs*rate)</code><br />\n",
    "    <code>else:</code><br />\n",
    "    <code>&nbsp;&nbsp;&nbsp;&nbsp;print(rate*40+(hrs-40)*rate*1.5)</code>\n",
    "</p>\n",
    "</details>   \n",
    "  \n",
    "#### 2. Write a program to prompt for a score between 0.0 and 1.0. If the score is out of range, print an error. If the score is between 0.0 and 1.0, print a grade using the following scheme: >= 0.9 A; >= 0.8 B; >= 0.7 C; >= 0.6 D; < 0.6 F. For the test, enter a score of 0.85.   \n",
    "<br /> \n",
    "<details>    \n",
    "<summary>\n",
    "    <font size=\"3\" color=\"red\"><b>Hints (click to expand)</b></font>\n",
    "</summary>\n",
    "<p>\n",
    "    <ul>\n",
    "        <li>Check whether the input score is out of range first.</li>\n",
    "        <li>Check for the different grade levels in descending order.</li>\n",
    "        <li>Remind yourself of elif-conditions.</li>\n",
    "    </ul>\n",
    "</p>\n",
    "</details>"
   ]
  },
  {
   "cell_type": "code",
   "execution_count": null,
   "id": "99584dda",
   "metadata": {},
   "outputs": [],
   "source": [
    "# START YOUR CODE HERE.\n",
    "score = input(\"Enter score: \")\n",
    "\n",
    "try:\n",
    "    score = float(score)\n",
    "\n",
    "    if score < 0.0 or score > 1.0:\n",
    "        print(\"Error: Score out of range.\")\n",
    "    elif score >= 0.9:\n",
    "        print(\"A\")\n",
    "    elif score >= 0.8:\n",
    "        print(\"B\")\n",
    "    elif score >= 0.7:\n",
    "        print(\"C\")\n",
    "    elif score >= 0.6:\n",
    "        print(\"D\")\n",
    "    else:\n",
    "        print(\"F\")\n"
   ]
  }
 ],
 "metadata": {
  "kernelspec": {
   "display_name": "Python 3 (ipykernel)",
   "language": "python",
   "name": "python3"
  },
  "language_info": {
   "codemirror_mode": {
    "name": "ipython",
    "version": 3
   },
   "file_extension": ".py",
   "mimetype": "text/x-python",
   "name": "python",
   "nbconvert_exporter": "python",
   "pygments_lexer": "ipython3",
   "version": "3.8.9"
  }
 },
 "nbformat": 4,
 "nbformat_minor": 5
}
