{
 "cells": [
  {
   "cell_type": "markdown",
   "id": "272e5f62",
   "metadata": {},
   "source": [
    "# Chapter 9 - Sets\n",
    "\n",
    "<hr style=\"border:2px solid gray\"> </hr>   \n",
    "   \n",
    "## Sets - Set Methods and Operations to Solve Common Problems"
   ]
  },
  {
   "cell_type": "code",
   "execution_count": 1,
   "id": "6174ca44",
   "metadata": {},
   "outputs": [
    {
     "name": "stdout",
     "output_type": "stream",
     "text": [
      "Unique numbers: {10, 20}\n",
      "Unique numbers from list: {1, 2, 3, 4, 5}\n",
      "True\n",
      "False\n",
      "Union: {1, 2, 3, 4, 5}\n",
      "Intersection: {3}\n",
      "Difference: {1, 2}\n",
      "Symmetric Difference: {1, 2, 4, 5}\n",
      "10\n",
      "20\n"
     ]
    }
   ],
   "source": [
    "# START YOUR CODE HERE.\n",
    "# Creating a set and adding elements\n",
    "unique_numbers = set()\n",
    "unique_numbers.add(10)\n",
    "unique_numbers.add(20)\n",
    "unique_numbers.add(10)  # Duplicates are ignored\n",
    "print(\"Unique numbers:\", unique_numbers)  # Output: {10, 20}\n",
    "\n",
    "# Creating a set from a list to remove duplicates\n",
    "nums = [1, 2, 3, 1, 2, 4, 5]\n",
    "unique_nums = set(nums)\n",
    "print(\"Unique numbers from list:\", unique_nums)  # Output: {1, 2, 3, 4, 5}\n",
    "\n",
    "# Checking membership in a set\n",
    "print(10 in unique_numbers)  # Output: True\n",
    "print(30 in unique_numbers)  # Output: False\n",
    "\n",
    "# Set operations: union, intersection, difference\n",
    "set1 = {1, 2, 3}\n",
    "set2 = {3, 4, 5}\n",
    "\n",
    "print(\"Union:\", set1 | set2)         # Output: {1, 2, 3, 4, 5}\n",
    "print(\"Intersection:\", set1 & set2)  # Output: {3}\n",
    "print(\"Difference:\", set1 - set2)    # Output: {1, 2}\n",
    "print(\"Symmetric Difference:\", set1 ^ set2)  # Output: {1, 2, 4, 5}\n",
    "\n",
    "# Iterating through a set\n",
    "for num in unique_numbers:\n",
    "    print(num)"
   ]
  },
  {
   "cell_type": "markdown",
   "id": "aa1956af",
   "metadata": {},
   "source": [
    "<hr style=\"border:2px solid gray\"> </hr>  \n",
    "\n",
    "## Practice Task   \n",
    "#### 1. Write a program to read through the data/mbox-short.txt and figure out a non-repeating collection of emails. You can pull the emails from lines that start with \"From \". \n",
    "<br /> \n",
    "<details>    \n",
    "<summary>\n",
    "    <font size=\"3\" color=\"red\"><b>Hints (click to expand)</b></font>\n",
    "</summary>\n",
    "<p>\n",
    "    <ul>\n",
    "        <li>First, store each email you can find in the file</li>\n",
    "        <li>Second, remove the repeating ones from your data structure.</li>\n",
    "    </ul>\n",
    "</p>\n",
    "</details>"
   ]
  },
  {
   "cell_type": "code",
   "execution_count": null,
   "id": "cdb781cd",
   "metadata": {},
   "outputs": [],
   "source": [
    "# START YOUR CODE HERE\n",
    "\n",
    "# THIS ELEMENT SHOULD CONTAIN THE NON-REPEATING EMAIL COLLECTION. \n",
    "emails = []\n",
    "with open (\"data/mbox-short.txt\", \"r\") as file:\n",
    "file = file. readlines ()\n",
    "for line in file:\n",
    "if not line.startswith(\"From \"):\n",
    "continue\n",
    "emails.append(line. split () [1])\n",
    "emails = set (emails)\n",
    "print (emails)"
   ]
  },
  {
   "cell_type": "code",
   "execution_count": null,
   "id": "c0afa07f",
   "metadata": {},
   "outputs": [],
   "source": [
    "# THIS CELL TESTS YOUR RESULTS.\n",
    "assert \"gopal.ramasammycook@gmail.com\" in emails, \"You did not filter out all emails!\"\n",
    "assert \"wagnermr@iupui.edu\" in emails, \"You did not filter out all emails!\"\n",
    "assert len(emails) == 11, \"Your collection is not non-repeating!\""
   ]
  }
 ],
 "metadata": {
  "kernelspec": {
   "display_name": "Python 3",
   "language": "python",
   "name": "python3"
  },
  "language_info": {
   "codemirror_mode": {
    "name": "ipython",
    "version": 3
   },
   "file_extension": ".py",
   "mimetype": "text/x-python",
   "name": "python",
   "nbconvert_exporter": "python",
   "pygments_lexer": "ipython3",
   "version": "3.13.2"
  }
 },
 "nbformat": 4,
 "nbformat_minor": 5
}
