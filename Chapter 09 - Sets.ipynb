{
 "cells": [
  {
   "cell_type": "markdown",
   "id": "272e5f62",
   "metadata": {},
   "source": [
    "# Chapter 9 - Sets\n",
    "\n",
    "<hr style=\"border:2px solid gray\"> </hr>   \n",
    "   \n",
    "## Sets - Set Methods and Operations to Solve Common Problems"
   ]
  },
  {
   "cell_type": "code",
   "execution_count": null,
   "id": "6174ca44",
   "metadata": {},
   "outputs": [],
   "source": [
    "# START YOUR CODE HERE.\n"
   ]
  },
  {
   "cell_type": "markdown",
   "id": "aa1956af",
   "metadata": {},
   "source": [
    "<hr style=\"border:2px solid gray\"> </hr>  \n",
    "\n",
    "## Practice Task   \n",
    "#### 1. Write a program to read through the data/mbox-short.txt and figure out a non-repeating collection of emails. You can pull the emails from lines that start with \"From \". \n",
    "<br /> \n",
    "<details>    \n",
    "<summary>\n",
    "    <font size=\"3\" color=\"red\"><b>Hints (click to expand)</b></font>\n",
    "</summary>\n",
    "<p>\n",
    "    <ul>\n",
    "        <li>First, store each email you can find in the file</li>\n",
    "        <li>Second, remove the repeating ones from your data structure.</li>\n",
    "    </ul>\n",
    "</p>\n",
    "</details>"
   ]
  },
  {
   "cell_type": "code",
   "execution_count": null,
   "id": "cdb781cd",
   "metadata": {},
   "outputs": [],
   "source": [
    "# START YOUR CODE HERE\n",
    "\n",
    "# THIS ELEMENT SHOULD CONTAIN THE NON-REPEATING EMAIL COLLECTION. \n",
    "emails = []\n",
    "with open (\"data/mbox-short.txt\", \"r\") as file:\n",
    "file = file. readlines ()\n",
    "for line in file:\n",
    "if not line.startswith(\"From \"):\n",
    "continue\n",
    "emails.append(line. split () [1])\n",
    "emails = set (emails)\n",
    "print (emails)"
   ]
  },
  {
   "cell_type": "code",
   "execution_count": null,
   "id": "c0afa07f",
   "metadata": {},
   "outputs": [],
   "source": [
    "# THIS CELL TESTS YOUR RESULTS.\n",
    "assert \"gopal.ramasammycook@gmail.com\" in emails, \"You did not filter out all emails!\"\n",
    "assert \"wagnermr@iupui.edu\" in emails, \"You did not filter out all emails!\"\n",
    "assert len(emails) == 11, \"Your collection is not non-repeating!\""
   ]
  }
 ],
 "metadata": {
  "kernelspec": {
   "display_name": "Python 3 (ipykernel)",
   "language": "python",
   "name": "python3"
  },
  "language_info": {
   "codemirror_mode": {
    "name": "ipython",
    "version": 3
   },
   "file_extension": ".py",
   "mimetype": "text/x-python",
   "name": "python",
   "nbconvert_exporter": "python",
   "pygments_lexer": "ipython3",
   "version": "3.8.9"
  }
 },
 "nbformat": 4,
 "nbformat_minor": 5
}
